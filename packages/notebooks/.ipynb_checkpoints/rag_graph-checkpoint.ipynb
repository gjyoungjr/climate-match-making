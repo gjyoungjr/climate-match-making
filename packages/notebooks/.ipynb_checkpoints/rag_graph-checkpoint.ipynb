{
 "cells": [
  {
   "cell_type": "markdown",
   "metadata": {},
   "source": [
    "# RAG Knowledge Graph"
   ]
  },
  {
   "cell_type": "code",
   "execution_count": 1,
   "metadata": {},
   "outputs": [
    {
     "name": "stdout",
     "output_type": "stream",
     "text": [
      "Requirement already satisfied: llama-index-core in /opt/anaconda3/lib/python3.11/site-packages (0.11.16)\n",
      "Requirement already satisfied: PyYAML>=6.0.1 in /opt/anaconda3/lib/python3.11/site-packages (from llama-index-core) (6.0.1)\n",
      "Requirement already satisfied: SQLAlchemy>=1.4.49 in /opt/anaconda3/lib/python3.11/site-packages (from SQLAlchemy[asyncio]>=1.4.49->llama-index-core) (2.0.25)\n",
      "Requirement already satisfied: aiohttp<4.0.0,>=3.8.6 in /opt/anaconda3/lib/python3.11/site-packages (from llama-index-core) (3.9.3)\n",
      "Requirement already satisfied: dataclasses-json in /opt/anaconda3/lib/python3.11/site-packages (from llama-index-core) (0.6.6)\n",
      "Requirement already satisfied: deprecated>=1.2.9.3 in /opt/anaconda3/lib/python3.11/site-packages (from llama-index-core) (1.2.14)\n",
      "Requirement already satisfied: dirtyjson<2.0.0,>=1.0.8 in /opt/anaconda3/lib/python3.11/site-packages (from llama-index-core) (1.0.8)\n",
      "Requirement already satisfied: fsspec>=2023.5.0 in /opt/anaconda3/lib/python3.11/site-packages (from llama-index-core) (2024.6.0)\n",
      "Requirement already satisfied: httpx in /opt/anaconda3/lib/python3.11/site-packages (from llama-index-core) (0.27.0)\n",
      "Requirement already satisfied: nest-asyncio<2.0.0,>=1.5.8 in /opt/anaconda3/lib/python3.11/site-packages (from llama-index-core) (1.6.0)\n",
      "Requirement already satisfied: networkx>=3.0 in /opt/anaconda3/lib/python3.11/site-packages (from llama-index-core) (3.1)\n",
      "Requirement already satisfied: nltk>3.8.1 in /opt/anaconda3/lib/python3.11/site-packages (from llama-index-core) (3.9.1)\n",
      "Requirement already satisfied: numpy<2.0.0 in /opt/anaconda3/lib/python3.11/site-packages (from llama-index-core) (1.26.4)\n",
      "Requirement already satisfied: pillow>=9.0.0 in /opt/anaconda3/lib/python3.11/site-packages (from llama-index-core) (10.2.0)\n",
      "Requirement already satisfied: pydantic<3.0.0,>=2.7.0 in /opt/anaconda3/lib/python3.11/site-packages (from llama-index-core) (2.9.2)\n",
      "Requirement already satisfied: requests>=2.31.0 in /opt/anaconda3/lib/python3.11/site-packages (from llama-index-core) (2.32.3)\n",
      "Requirement already satisfied: tenacity!=8.4.0,<9.0.0,>=8.2.0 in /opt/anaconda3/lib/python3.11/site-packages (from llama-index-core) (8.3.0)\n",
      "Requirement already satisfied: tiktoken>=0.3.3 in /opt/anaconda3/lib/python3.11/site-packages (from llama-index-core) (0.7.0)\n",
      "Requirement already satisfied: tqdm<5.0.0,>=4.66.1 in /opt/anaconda3/lib/python3.11/site-packages (from llama-index-core) (4.66.4)\n",
      "Requirement already satisfied: typing-extensions>=4.5.0 in /opt/anaconda3/lib/python3.11/site-packages (from llama-index-core) (4.12.2)\n",
      "Requirement already satisfied: typing-inspect>=0.8.0 in /opt/anaconda3/lib/python3.11/site-packages (from llama-index-core) (0.9.0)\n",
      "Requirement already satisfied: wrapt in /opt/anaconda3/lib/python3.11/site-packages (from llama-index-core) (1.14.1)\n",
      "Requirement already satisfied: aiosignal>=1.1.2 in /opt/anaconda3/lib/python3.11/site-packages (from aiohttp<4.0.0,>=3.8.6->llama-index-core) (1.2.0)\n",
      "Requirement already satisfied: attrs>=17.3.0 in /opt/anaconda3/lib/python3.11/site-packages (from aiohttp<4.0.0,>=3.8.6->llama-index-core) (23.1.0)\n",
      "Requirement already satisfied: frozenlist>=1.1.1 in /opt/anaconda3/lib/python3.11/site-packages (from aiohttp<4.0.0,>=3.8.6->llama-index-core) (1.4.0)\n",
      "Requirement already satisfied: multidict<7.0,>=4.5 in /opt/anaconda3/lib/python3.11/site-packages (from aiohttp<4.0.0,>=3.8.6->llama-index-core) (6.0.4)\n",
      "Requirement already satisfied: yarl<2.0,>=1.0 in /opt/anaconda3/lib/python3.11/site-packages (from aiohttp<4.0.0,>=3.8.6->llama-index-core) (1.9.3)\n",
      "Requirement already satisfied: click in /opt/anaconda3/lib/python3.11/site-packages (from nltk>3.8.1->llama-index-core) (8.1.7)\n",
      "Requirement already satisfied: joblib in /opt/anaconda3/lib/python3.11/site-packages (from nltk>3.8.1->llama-index-core) (1.2.0)\n",
      "Requirement already satisfied: regex>=2021.8.3 in /opt/anaconda3/lib/python3.11/site-packages (from nltk>3.8.1->llama-index-core) (2023.10.3)\n",
      "Requirement already satisfied: annotated-types>=0.6.0 in /opt/anaconda3/lib/python3.11/site-packages (from pydantic<3.0.0,>=2.7.0->llama-index-core) (0.7.0)\n",
      "Requirement already satisfied: pydantic-core==2.23.4 in /opt/anaconda3/lib/python3.11/site-packages (from pydantic<3.0.0,>=2.7.0->llama-index-core) (2.23.4)\n",
      "Requirement already satisfied: charset-normalizer<4,>=2 in /opt/anaconda3/lib/python3.11/site-packages (from requests>=2.31.0->llama-index-core) (3.3.2)\n",
      "Requirement already satisfied: idna<4,>=2.5 in /opt/anaconda3/lib/python3.11/site-packages (from requests>=2.31.0->llama-index-core) (3.4)\n",
      "Requirement already satisfied: urllib3<3,>=1.21.1 in /opt/anaconda3/lib/python3.11/site-packages (from requests>=2.31.0->llama-index-core) (2.0.7)\n",
      "Requirement already satisfied: certifi>=2017.4.17 in /opt/anaconda3/lib/python3.11/site-packages (from requests>=2.31.0->llama-index-core) (2024.6.2)\n",
      "Requirement already satisfied: greenlet!=0.4.17 in /opt/anaconda3/lib/python3.11/site-packages (from SQLAlchemy[asyncio]>=1.4.49->llama-index-core) (3.0.1)\n",
      "Requirement already satisfied: mypy-extensions>=0.3.0 in /opt/anaconda3/lib/python3.11/site-packages (from typing-inspect>=0.8.0->llama-index-core) (1.0.0)\n",
      "Requirement already satisfied: marshmallow<4.0.0,>=3.18.0 in /opt/anaconda3/lib/python3.11/site-packages (from dataclasses-json->llama-index-core) (3.21.2)\n",
      "Requirement already satisfied: anyio in /opt/anaconda3/lib/python3.11/site-packages (from httpx->llama-index-core) (4.2.0)\n",
      "Requirement already satisfied: httpcore==1.* in /opt/anaconda3/lib/python3.11/site-packages (from httpx->llama-index-core) (1.0.2)\n",
      "Requirement already satisfied: sniffio in /opt/anaconda3/lib/python3.11/site-packages (from httpx->llama-index-core) (1.3.0)\n",
      "Requirement already satisfied: h11<0.15,>=0.13 in /opt/anaconda3/lib/python3.11/site-packages (from httpcore==1.*->httpx->llama-index-core) (0.14.0)\n",
      "Requirement already satisfied: packaging>=17.0 in /opt/anaconda3/lib/python3.11/site-packages (from marshmallow<4.0.0,>=3.18.0->dataclasses-json->llama-index-core) (23.2)\n",
      "Note: you may need to restart the kernel to use updated packages.\n",
      "Requirement already satisfied: llama-index-graph-stores-neo4j in /opt/anaconda3/lib/python3.11/site-packages (0.3.2)\n",
      "Requirement already satisfied: llama-index-core<0.12.0,>=0.11.0 in /opt/anaconda3/lib/python3.11/site-packages (from llama-index-graph-stores-neo4j) (0.11.16)\n",
      "Requirement already satisfied: neo4j<6.0.0,>=5.16.0 in /opt/anaconda3/lib/python3.11/site-packages (from llama-index-graph-stores-neo4j) (5.25.0)\n",
      "Requirement already satisfied: PyYAML>=6.0.1 in /opt/anaconda3/lib/python3.11/site-packages (from llama-index-core<0.12.0,>=0.11.0->llama-index-graph-stores-neo4j) (6.0.1)\n",
      "Requirement already satisfied: SQLAlchemy>=1.4.49 in /opt/anaconda3/lib/python3.11/site-packages (from SQLAlchemy[asyncio]>=1.4.49->llama-index-core<0.12.0,>=0.11.0->llama-index-graph-stores-neo4j) (2.0.25)\n",
      "Requirement already satisfied: aiohttp<4.0.0,>=3.8.6 in /opt/anaconda3/lib/python3.11/site-packages (from llama-index-core<0.12.0,>=0.11.0->llama-index-graph-stores-neo4j) (3.9.3)\n",
      "Requirement already satisfied: dataclasses-json in /opt/anaconda3/lib/python3.11/site-packages (from llama-index-core<0.12.0,>=0.11.0->llama-index-graph-stores-neo4j) (0.6.6)\n",
      "Requirement already satisfied: deprecated>=1.2.9.3 in /opt/anaconda3/lib/python3.11/site-packages (from llama-index-core<0.12.0,>=0.11.0->llama-index-graph-stores-neo4j) (1.2.14)\n",
      "Requirement already satisfied: dirtyjson<2.0.0,>=1.0.8 in /opt/anaconda3/lib/python3.11/site-packages (from llama-index-core<0.12.0,>=0.11.0->llama-index-graph-stores-neo4j) (1.0.8)\n",
      "Requirement already satisfied: fsspec>=2023.5.0 in /opt/anaconda3/lib/python3.11/site-packages (from llama-index-core<0.12.0,>=0.11.0->llama-index-graph-stores-neo4j) (2024.6.0)\n",
      "Requirement already satisfied: httpx in /opt/anaconda3/lib/python3.11/site-packages (from llama-index-core<0.12.0,>=0.11.0->llama-index-graph-stores-neo4j) (0.27.0)\n",
      "Requirement already satisfied: nest-asyncio<2.0.0,>=1.5.8 in /opt/anaconda3/lib/python3.11/site-packages (from llama-index-core<0.12.0,>=0.11.0->llama-index-graph-stores-neo4j) (1.6.0)\n",
      "Requirement already satisfied: networkx>=3.0 in /opt/anaconda3/lib/python3.11/site-packages (from llama-index-core<0.12.0,>=0.11.0->llama-index-graph-stores-neo4j) (3.1)\n",
      "Requirement already satisfied: nltk>3.8.1 in /opt/anaconda3/lib/python3.11/site-packages (from llama-index-core<0.12.0,>=0.11.0->llama-index-graph-stores-neo4j) (3.9.1)\n",
      "Requirement already satisfied: numpy<2.0.0 in /opt/anaconda3/lib/python3.11/site-packages (from llama-index-core<0.12.0,>=0.11.0->llama-index-graph-stores-neo4j) (1.26.4)\n",
      "Requirement already satisfied: pillow>=9.0.0 in /opt/anaconda3/lib/python3.11/site-packages (from llama-index-core<0.12.0,>=0.11.0->llama-index-graph-stores-neo4j) (10.2.0)\n",
      "Requirement already satisfied: pydantic<3.0.0,>=2.7.0 in /opt/anaconda3/lib/python3.11/site-packages (from llama-index-core<0.12.0,>=0.11.0->llama-index-graph-stores-neo4j) (2.9.2)\n",
      "Requirement already satisfied: requests>=2.31.0 in /opt/anaconda3/lib/python3.11/site-packages (from llama-index-core<0.12.0,>=0.11.0->llama-index-graph-stores-neo4j) (2.32.3)\n",
      "Requirement already satisfied: tenacity!=8.4.0,<9.0.0,>=8.2.0 in /opt/anaconda3/lib/python3.11/site-packages (from llama-index-core<0.12.0,>=0.11.0->llama-index-graph-stores-neo4j) (8.3.0)\n",
      "Requirement already satisfied: tiktoken>=0.3.3 in /opt/anaconda3/lib/python3.11/site-packages (from llama-index-core<0.12.0,>=0.11.0->llama-index-graph-stores-neo4j) (0.7.0)\n",
      "Requirement already satisfied: tqdm<5.0.0,>=4.66.1 in /opt/anaconda3/lib/python3.11/site-packages (from llama-index-core<0.12.0,>=0.11.0->llama-index-graph-stores-neo4j) (4.66.4)\n",
      "Requirement already satisfied: typing-extensions>=4.5.0 in /opt/anaconda3/lib/python3.11/site-packages (from llama-index-core<0.12.0,>=0.11.0->llama-index-graph-stores-neo4j) (4.12.2)\n",
      "Requirement already satisfied: typing-inspect>=0.8.0 in /opt/anaconda3/lib/python3.11/site-packages (from llama-index-core<0.12.0,>=0.11.0->llama-index-graph-stores-neo4j) (0.9.0)\n",
      "Requirement already satisfied: wrapt in /opt/anaconda3/lib/python3.11/site-packages (from llama-index-core<0.12.0,>=0.11.0->llama-index-graph-stores-neo4j) (1.14.1)\n"
     ]
    },
    {
     "name": "stdout",
     "output_type": "stream",
     "text": [
      "Requirement already satisfied: pytz in /opt/anaconda3/lib/python3.11/site-packages (from neo4j<6.0.0,>=5.16.0->llama-index-graph-stores-neo4j) (2023.3.post1)\n",
      "Requirement already satisfied: aiosignal>=1.1.2 in /opt/anaconda3/lib/python3.11/site-packages (from aiohttp<4.0.0,>=3.8.6->llama-index-core<0.12.0,>=0.11.0->llama-index-graph-stores-neo4j) (1.2.0)\n",
      "Requirement already satisfied: attrs>=17.3.0 in /opt/anaconda3/lib/python3.11/site-packages (from aiohttp<4.0.0,>=3.8.6->llama-index-core<0.12.0,>=0.11.0->llama-index-graph-stores-neo4j) (23.1.0)\n",
      "Requirement already satisfied: frozenlist>=1.1.1 in /opt/anaconda3/lib/python3.11/site-packages (from aiohttp<4.0.0,>=3.8.6->llama-index-core<0.12.0,>=0.11.0->llama-index-graph-stores-neo4j) (1.4.0)\n",
      "Requirement already satisfied: multidict<7.0,>=4.5 in /opt/anaconda3/lib/python3.11/site-packages (from aiohttp<4.0.0,>=3.8.6->llama-index-core<0.12.0,>=0.11.0->llama-index-graph-stores-neo4j) (6.0.4)\n",
      "Requirement already satisfied: yarl<2.0,>=1.0 in /opt/anaconda3/lib/python3.11/site-packages (from aiohttp<4.0.0,>=3.8.6->llama-index-core<0.12.0,>=0.11.0->llama-index-graph-stores-neo4j) (1.9.3)\n",
      "Requirement already satisfied: click in /opt/anaconda3/lib/python3.11/site-packages (from nltk>3.8.1->llama-index-core<0.12.0,>=0.11.0->llama-index-graph-stores-neo4j) (8.1.7)\n",
      "Requirement already satisfied: joblib in /opt/anaconda3/lib/python3.11/site-packages (from nltk>3.8.1->llama-index-core<0.12.0,>=0.11.0->llama-index-graph-stores-neo4j) (1.2.0)\n",
      "Requirement already satisfied: regex>=2021.8.3 in /opt/anaconda3/lib/python3.11/site-packages (from nltk>3.8.1->llama-index-core<0.12.0,>=0.11.0->llama-index-graph-stores-neo4j) (2023.10.3)\n",
      "Requirement already satisfied: annotated-types>=0.6.0 in /opt/anaconda3/lib/python3.11/site-packages (from pydantic<3.0.0,>=2.7.0->llama-index-core<0.12.0,>=0.11.0->llama-index-graph-stores-neo4j) (0.7.0)\n",
      "Requirement already satisfied: pydantic-core==2.23.4 in /opt/anaconda3/lib/python3.11/site-packages (from pydantic<3.0.0,>=2.7.0->llama-index-core<0.12.0,>=0.11.0->llama-index-graph-stores-neo4j) (2.23.4)\n",
      "Requirement already satisfied: charset-normalizer<4,>=2 in /opt/anaconda3/lib/python3.11/site-packages (from requests>=2.31.0->llama-index-core<0.12.0,>=0.11.0->llama-index-graph-stores-neo4j) (3.3.2)\n",
      "Requirement already satisfied: idna<4,>=2.5 in /opt/anaconda3/lib/python3.11/site-packages (from requests>=2.31.0->llama-index-core<0.12.0,>=0.11.0->llama-index-graph-stores-neo4j) (3.4)\n",
      "Requirement already satisfied: urllib3<3,>=1.21.1 in /opt/anaconda3/lib/python3.11/site-packages (from requests>=2.31.0->llama-index-core<0.12.0,>=0.11.0->llama-index-graph-stores-neo4j) (2.0.7)\n",
      "Requirement already satisfied: certifi>=2017.4.17 in /opt/anaconda3/lib/python3.11/site-packages (from requests>=2.31.0->llama-index-core<0.12.0,>=0.11.0->llama-index-graph-stores-neo4j) (2024.6.2)\n",
      "Requirement already satisfied: greenlet!=0.4.17 in /opt/anaconda3/lib/python3.11/site-packages (from SQLAlchemy[asyncio]>=1.4.49->llama-index-core<0.12.0,>=0.11.0->llama-index-graph-stores-neo4j) (3.0.1)\n",
      "Requirement already satisfied: mypy-extensions>=0.3.0 in /opt/anaconda3/lib/python3.11/site-packages (from typing-inspect>=0.8.0->llama-index-core<0.12.0,>=0.11.0->llama-index-graph-stores-neo4j) (1.0.0)\n",
      "Requirement already satisfied: marshmallow<4.0.0,>=3.18.0 in /opt/anaconda3/lib/python3.11/site-packages (from dataclasses-json->llama-index-core<0.12.0,>=0.11.0->llama-index-graph-stores-neo4j) (3.21.2)\n",
      "Requirement already satisfied: anyio in /opt/anaconda3/lib/python3.11/site-packages (from httpx->llama-index-core<0.12.0,>=0.11.0->llama-index-graph-stores-neo4j) (4.2.0)\n",
      "Requirement already satisfied: httpcore==1.* in /opt/anaconda3/lib/python3.11/site-packages (from httpx->llama-index-core<0.12.0,>=0.11.0->llama-index-graph-stores-neo4j) (1.0.2)\n",
      "Requirement already satisfied: sniffio in /opt/anaconda3/lib/python3.11/site-packages (from httpx->llama-index-core<0.12.0,>=0.11.0->llama-index-graph-stores-neo4j) (1.3.0)\n",
      "Requirement already satisfied: h11<0.15,>=0.13 in /opt/anaconda3/lib/python3.11/site-packages (from httpcore==1.*->httpx->llama-index-core<0.12.0,>=0.11.0->llama-index-graph-stores-neo4j) (0.14.0)\n",
      "Requirement already satisfied: packaging>=17.0 in /opt/anaconda3/lib/python3.11/site-packages (from marshmallow<4.0.0,>=3.18.0->dataclasses-json->llama-index-core<0.12.0,>=0.11.0->llama-index-graph-stores-neo4j) (23.2)\n",
      "Note: you may need to restart the kernel to use updated packages.\n",
      "Requirement already satisfied: llama-index-llms-mistralai in /opt/anaconda3/lib/python3.11/site-packages (0.2.5)\n",
      "Requirement already satisfied: llama-index-core<0.12.0,>=0.11.0 in /opt/anaconda3/lib/python3.11/site-packages (from llama-index-llms-mistralai) (0.11.16)\n",
      "Requirement already satisfied: mistralai>=1.0.0 in /opt/anaconda3/lib/python3.11/site-packages (from llama-index-llms-mistralai) (1.1.0)\n",
      "Requirement already satisfied: PyYAML>=6.0.1 in /opt/anaconda3/lib/python3.11/site-packages (from llama-index-core<0.12.0,>=0.11.0->llama-index-llms-mistralai) (6.0.1)\n",
      "Requirement already satisfied: SQLAlchemy>=1.4.49 in /opt/anaconda3/lib/python3.11/site-packages (from SQLAlchemy[asyncio]>=1.4.49->llama-index-core<0.12.0,>=0.11.0->llama-index-llms-mistralai) (2.0.25)\n",
      "Requirement already satisfied: aiohttp<4.0.0,>=3.8.6 in /opt/anaconda3/lib/python3.11/site-packages (from llama-index-core<0.12.0,>=0.11.0->llama-index-llms-mistralai) (3.9.3)\n",
      "Requirement already satisfied: dataclasses-json in /opt/anaconda3/lib/python3.11/site-packages (from llama-index-core<0.12.0,>=0.11.0->llama-index-llms-mistralai) (0.6.6)\n",
      "Requirement already satisfied: deprecated>=1.2.9.3 in /opt/anaconda3/lib/python3.11/site-packages (from llama-index-core<0.12.0,>=0.11.0->llama-index-llms-mistralai) (1.2.14)\n",
      "Requirement already satisfied: dirtyjson<2.0.0,>=1.0.8 in /opt/anaconda3/lib/python3.11/site-packages (from llama-index-core<0.12.0,>=0.11.0->llama-index-llms-mistralai) (1.0.8)\n",
      "Requirement already satisfied: fsspec>=2023.5.0 in /opt/anaconda3/lib/python3.11/site-packages (from llama-index-core<0.12.0,>=0.11.0->llama-index-llms-mistralai) (2024.6.0)\n",
      "Requirement already satisfied: httpx in /opt/anaconda3/lib/python3.11/site-packages (from llama-index-core<0.12.0,>=0.11.0->llama-index-llms-mistralai) (0.27.0)\n",
      "Requirement already satisfied: nest-asyncio<2.0.0,>=1.5.8 in /opt/anaconda3/lib/python3.11/site-packages (from llama-index-core<0.12.0,>=0.11.0->llama-index-llms-mistralai) (1.6.0)\n",
      "Requirement already satisfied: networkx>=3.0 in /opt/anaconda3/lib/python3.11/site-packages (from llama-index-core<0.12.0,>=0.11.0->llama-index-llms-mistralai) (3.1)\n",
      "Requirement already satisfied: nltk>3.8.1 in /opt/anaconda3/lib/python3.11/site-packages (from llama-index-core<0.12.0,>=0.11.0->llama-index-llms-mistralai) (3.9.1)\n",
      "Requirement already satisfied: numpy<2.0.0 in /opt/anaconda3/lib/python3.11/site-packages (from llama-index-core<0.12.0,>=0.11.0->llama-index-llms-mistralai) (1.26.4)\n",
      "Requirement already satisfied: pillow>=9.0.0 in /opt/anaconda3/lib/python3.11/site-packages (from llama-index-core<0.12.0,>=0.11.0->llama-index-llms-mistralai) (10.2.0)\n",
      "Requirement already satisfied: pydantic<3.0.0,>=2.7.0 in /opt/anaconda3/lib/python3.11/site-packages (from llama-index-core<0.12.0,>=0.11.0->llama-index-llms-mistralai) (2.9.2)\n",
      "Requirement already satisfied: requests>=2.31.0 in /opt/anaconda3/lib/python3.11/site-packages (from llama-index-core<0.12.0,>=0.11.0->llama-index-llms-mistralai) (2.32.3)\n",
      "Requirement already satisfied: tenacity!=8.4.0,<9.0.0,>=8.2.0 in /opt/anaconda3/lib/python3.11/site-packages (from llama-index-core<0.12.0,>=0.11.0->llama-index-llms-mistralai) (8.3.0)\n",
      "Requirement already satisfied: tiktoken>=0.3.3 in /opt/anaconda3/lib/python3.11/site-packages (from llama-index-core<0.12.0,>=0.11.0->llama-index-llms-mistralai) (0.7.0)\n",
      "Requirement already satisfied: tqdm<5.0.0,>=4.66.1 in /opt/anaconda3/lib/python3.11/site-packages (from llama-index-core<0.12.0,>=0.11.0->llama-index-llms-mistralai) (4.66.4)\n",
      "Requirement already satisfied: typing-extensions>=4.5.0 in /opt/anaconda3/lib/python3.11/site-packages (from llama-index-core<0.12.0,>=0.11.0->llama-index-llms-mistralai) (4.12.2)\n",
      "Requirement already satisfied: typing-inspect>=0.8.0 in /opt/anaconda3/lib/python3.11/site-packages (from llama-index-core<0.12.0,>=0.11.0->llama-index-llms-mistralai) (0.9.0)\n",
      "Requirement already satisfied: wrapt in /opt/anaconda3/lib/python3.11/site-packages (from llama-index-core<0.12.0,>=0.11.0->llama-index-llms-mistralai) (1.14.1)\n"
     ]
    },
    {
     "name": "stdout",
     "output_type": "stream",
     "text": [
      "Requirement already satisfied: eval-type-backport<0.3.0,>=0.2.0 in /opt/anaconda3/lib/python3.11/site-packages (from mistralai>=1.0.0->llama-index-llms-mistralai) (0.2.0)\n",
      "Requirement already satisfied: jsonpath-python<2.0.0,>=1.0.6 in /opt/anaconda3/lib/python3.11/site-packages (from mistralai>=1.0.0->llama-index-llms-mistralai) (1.0.6)\n",
      "Requirement already satisfied: python-dateutil==2.8.2 in /opt/anaconda3/lib/python3.11/site-packages (from mistralai>=1.0.0->llama-index-llms-mistralai) (2.8.2)\n",
      "Requirement already satisfied: six>=1.5 in /opt/anaconda3/lib/python3.11/site-packages (from python-dateutil==2.8.2->mistralai>=1.0.0->llama-index-llms-mistralai) (1.16.0)\n",
      "Requirement already satisfied: aiosignal>=1.1.2 in /opt/anaconda3/lib/python3.11/site-packages (from aiohttp<4.0.0,>=3.8.6->llama-index-core<0.12.0,>=0.11.0->llama-index-llms-mistralai) (1.2.0)\n",
      "Requirement already satisfied: attrs>=17.3.0 in /opt/anaconda3/lib/python3.11/site-packages (from aiohttp<4.0.0,>=3.8.6->llama-index-core<0.12.0,>=0.11.0->llama-index-llms-mistralai) (23.1.0)\n",
      "Requirement already satisfied: frozenlist>=1.1.1 in /opt/anaconda3/lib/python3.11/site-packages (from aiohttp<4.0.0,>=3.8.6->llama-index-core<0.12.0,>=0.11.0->llama-index-llms-mistralai) (1.4.0)\n",
      "Requirement already satisfied: multidict<7.0,>=4.5 in /opt/anaconda3/lib/python3.11/site-packages (from aiohttp<4.0.0,>=3.8.6->llama-index-core<0.12.0,>=0.11.0->llama-index-llms-mistralai) (6.0.4)\n",
      "Requirement already satisfied: yarl<2.0,>=1.0 in /opt/anaconda3/lib/python3.11/site-packages (from aiohttp<4.0.0,>=3.8.6->llama-index-core<0.12.0,>=0.11.0->llama-index-llms-mistralai) (1.9.3)\n",
      "Requirement already satisfied: anyio in /opt/anaconda3/lib/python3.11/site-packages (from httpx->llama-index-core<0.12.0,>=0.11.0->llama-index-llms-mistralai) (4.2.0)\n",
      "Requirement already satisfied: certifi in /opt/anaconda3/lib/python3.11/site-packages (from httpx->llama-index-core<0.12.0,>=0.11.0->llama-index-llms-mistralai) (2024.6.2)\n",
      "Requirement already satisfied: httpcore==1.* in /opt/anaconda3/lib/python3.11/site-packages (from httpx->llama-index-core<0.12.0,>=0.11.0->llama-index-llms-mistralai) (1.0.2)\n",
      "Requirement already satisfied: idna in /opt/anaconda3/lib/python3.11/site-packages (from httpx->llama-index-core<0.12.0,>=0.11.0->llama-index-llms-mistralai) (3.4)\n",
      "Requirement already satisfied: sniffio in /opt/anaconda3/lib/python3.11/site-packages (from httpx->llama-index-core<0.12.0,>=0.11.0->llama-index-llms-mistralai) (1.3.0)\n",
      "Requirement already satisfied: h11<0.15,>=0.13 in /opt/anaconda3/lib/python3.11/site-packages (from httpcore==1.*->httpx->llama-index-core<0.12.0,>=0.11.0->llama-index-llms-mistralai) (0.14.0)\n",
      "Requirement already satisfied: click in /opt/anaconda3/lib/python3.11/site-packages (from nltk>3.8.1->llama-index-core<0.12.0,>=0.11.0->llama-index-llms-mistralai) (8.1.7)\n",
      "Requirement already satisfied: joblib in /opt/anaconda3/lib/python3.11/site-packages (from nltk>3.8.1->llama-index-core<0.12.0,>=0.11.0->llama-index-llms-mistralai) (1.2.0)\n",
      "Requirement already satisfied: regex>=2021.8.3 in /opt/anaconda3/lib/python3.11/site-packages (from nltk>3.8.1->llama-index-core<0.12.0,>=0.11.0->llama-index-llms-mistralai) (2023.10.3)\n",
      "Requirement already satisfied: annotated-types>=0.6.0 in /opt/anaconda3/lib/python3.11/site-packages (from pydantic<3.0.0,>=2.7.0->llama-index-core<0.12.0,>=0.11.0->llama-index-llms-mistralai) (0.7.0)\n",
      "Requirement already satisfied: pydantic-core==2.23.4 in /opt/anaconda3/lib/python3.11/site-packages (from pydantic<3.0.0,>=2.7.0->llama-index-core<0.12.0,>=0.11.0->llama-index-llms-mistralai) (2.23.4)\n",
      "Requirement already satisfied: charset-normalizer<4,>=2 in /opt/anaconda3/lib/python3.11/site-packages (from requests>=2.31.0->llama-index-core<0.12.0,>=0.11.0->llama-index-llms-mistralai) (3.3.2)\n",
      "Requirement already satisfied: urllib3<3,>=1.21.1 in /opt/anaconda3/lib/python3.11/site-packages (from requests>=2.31.0->llama-index-core<0.12.0,>=0.11.0->llama-index-llms-mistralai) (2.0.7)\n",
      "Requirement already satisfied: greenlet!=0.4.17 in /opt/anaconda3/lib/python3.11/site-packages (from SQLAlchemy[asyncio]>=1.4.49->llama-index-core<0.12.0,>=0.11.0->llama-index-llms-mistralai) (3.0.1)\n",
      "Requirement already satisfied: mypy-extensions>=0.3.0 in /opt/anaconda3/lib/python3.11/site-packages (from typing-inspect>=0.8.0->llama-index-core<0.12.0,>=0.11.0->llama-index-llms-mistralai) (1.0.0)\n",
      "Requirement already satisfied: marshmallow<4.0.0,>=3.18.0 in /opt/anaconda3/lib/python3.11/site-packages (from dataclasses-json->llama-index-core<0.12.0,>=0.11.0->llama-index-llms-mistralai) (3.21.2)\n",
      "Requirement already satisfied: packaging>=17.0 in /opt/anaconda3/lib/python3.11/site-packages (from marshmallow<4.0.0,>=3.18.0->dataclasses-json->llama-index-core<0.12.0,>=0.11.0->llama-index-llms-mistralai) (23.2)\n",
      "Note: you may need to restart the kernel to use updated packages.\n",
      "Requirement already satisfied: llama-index-embeddings-mistralai in /opt/anaconda3/lib/python3.11/site-packages (0.2.0)\n",
      "Requirement already satisfied: llama-index-core<0.12.0,>=0.11.0 in /opt/anaconda3/lib/python3.11/site-packages (from llama-index-embeddings-mistralai) (0.11.16)\n",
      "Requirement already satisfied: mistralai>=1.0.0 in /opt/anaconda3/lib/python3.11/site-packages (from llama-index-embeddings-mistralai) (1.1.0)\n",
      "Requirement already satisfied: PyYAML>=6.0.1 in /opt/anaconda3/lib/python3.11/site-packages (from llama-index-core<0.12.0,>=0.11.0->llama-index-embeddings-mistralai) (6.0.1)\n",
      "Requirement already satisfied: SQLAlchemy>=1.4.49 in /opt/anaconda3/lib/python3.11/site-packages (from SQLAlchemy[asyncio]>=1.4.49->llama-index-core<0.12.0,>=0.11.0->llama-index-embeddings-mistralai) (2.0.25)\n",
      "Requirement already satisfied: aiohttp<4.0.0,>=3.8.6 in /opt/anaconda3/lib/python3.11/site-packages (from llama-index-core<0.12.0,>=0.11.0->llama-index-embeddings-mistralai) (3.9.3)\n",
      "Requirement already satisfied: dataclasses-json in /opt/anaconda3/lib/python3.11/site-packages (from llama-index-core<0.12.0,>=0.11.0->llama-index-embeddings-mistralai) (0.6.6)\n",
      "Requirement already satisfied: deprecated>=1.2.9.3 in /opt/anaconda3/lib/python3.11/site-packages (from llama-index-core<0.12.0,>=0.11.0->llama-index-embeddings-mistralai) (1.2.14)\n",
      "Requirement already satisfied: dirtyjson<2.0.0,>=1.0.8 in /opt/anaconda3/lib/python3.11/site-packages (from llama-index-core<0.12.0,>=0.11.0->llama-index-embeddings-mistralai) (1.0.8)\n",
      "Requirement already satisfied: fsspec>=2023.5.0 in /opt/anaconda3/lib/python3.11/site-packages (from llama-index-core<0.12.0,>=0.11.0->llama-index-embeddings-mistralai) (2024.6.0)\n",
      "Requirement already satisfied: httpx in /opt/anaconda3/lib/python3.11/site-packages (from llama-index-core<0.12.0,>=0.11.0->llama-index-embeddings-mistralai) (0.27.0)\n",
      "Requirement already satisfied: nest-asyncio<2.0.0,>=1.5.8 in /opt/anaconda3/lib/python3.11/site-packages (from llama-index-core<0.12.0,>=0.11.0->llama-index-embeddings-mistralai) (1.6.0)\n",
      "Requirement already satisfied: networkx>=3.0 in /opt/anaconda3/lib/python3.11/site-packages (from llama-index-core<0.12.0,>=0.11.0->llama-index-embeddings-mistralai) (3.1)\n",
      "Requirement already satisfied: nltk>3.8.1 in /opt/anaconda3/lib/python3.11/site-packages (from llama-index-core<0.12.0,>=0.11.0->llama-index-embeddings-mistralai) (3.9.1)\n",
      "Requirement already satisfied: numpy<2.0.0 in /opt/anaconda3/lib/python3.11/site-packages (from llama-index-core<0.12.0,>=0.11.0->llama-index-embeddings-mistralai) (1.26.4)\n",
      "Requirement already satisfied: pillow>=9.0.0 in /opt/anaconda3/lib/python3.11/site-packages (from llama-index-core<0.12.0,>=0.11.0->llama-index-embeddings-mistralai) (10.2.0)\n",
      "Requirement already satisfied: pydantic<3.0.0,>=2.7.0 in /opt/anaconda3/lib/python3.11/site-packages (from llama-index-core<0.12.0,>=0.11.0->llama-index-embeddings-mistralai) (2.9.2)\n",
      "Requirement already satisfied: requests>=2.31.0 in /opt/anaconda3/lib/python3.11/site-packages (from llama-index-core<0.12.0,>=0.11.0->llama-index-embeddings-mistralai) (2.32.3)\n",
      "Requirement already satisfied: tenacity!=8.4.0,<9.0.0,>=8.2.0 in /opt/anaconda3/lib/python3.11/site-packages (from llama-index-core<0.12.0,>=0.11.0->llama-index-embeddings-mistralai) (8.3.0)\n",
      "Requirement already satisfied: tiktoken>=0.3.3 in /opt/anaconda3/lib/python3.11/site-packages (from llama-index-core<0.12.0,>=0.11.0->llama-index-embeddings-mistralai) (0.7.0)\n",
      "Requirement already satisfied: tqdm<5.0.0,>=4.66.1 in /opt/anaconda3/lib/python3.11/site-packages (from llama-index-core<0.12.0,>=0.11.0->llama-index-embeddings-mistralai) (4.66.4)\n",
      "Requirement already satisfied: typing-extensions>=4.5.0 in /opt/anaconda3/lib/python3.11/site-packages (from llama-index-core<0.12.0,>=0.11.0->llama-index-embeddings-mistralai) (4.12.2)\n",
      "Requirement already satisfied: typing-inspect>=0.8.0 in /opt/anaconda3/lib/python3.11/site-packages (from llama-index-core<0.12.0,>=0.11.0->llama-index-embeddings-mistralai) (0.9.0)\n",
      "Requirement already satisfied: wrapt in /opt/anaconda3/lib/python3.11/site-packages (from llama-index-core<0.12.0,>=0.11.0->llama-index-embeddings-mistralai) (1.14.1)\n",
      "Requirement already satisfied: eval-type-backport<0.3.0,>=0.2.0 in /opt/anaconda3/lib/python3.11/site-packages (from mistralai>=1.0.0->llama-index-embeddings-mistralai) (0.2.0)\n",
      "Requirement already satisfied: jsonpath-python<2.0.0,>=1.0.6 in /opt/anaconda3/lib/python3.11/site-packages (from mistralai>=1.0.0->llama-index-embeddings-mistralai) (1.0.6)\n",
      "Requirement already satisfied: python-dateutil==2.8.2 in /opt/anaconda3/lib/python3.11/site-packages (from mistralai>=1.0.0->llama-index-embeddings-mistralai) (2.8.2)\n",
      "Requirement already satisfied: six>=1.5 in /opt/anaconda3/lib/python3.11/site-packages (from python-dateutil==2.8.2->mistralai>=1.0.0->llama-index-embeddings-mistralai) (1.16.0)\n",
      "Requirement already satisfied: aiosignal>=1.1.2 in /opt/anaconda3/lib/python3.11/site-packages (from aiohttp<4.0.0,>=3.8.6->llama-index-core<0.12.0,>=0.11.0->llama-index-embeddings-mistralai) (1.2.0)\n",
      "Requirement already satisfied: attrs>=17.3.0 in /opt/anaconda3/lib/python3.11/site-packages (from aiohttp<4.0.0,>=3.8.6->llama-index-core<0.12.0,>=0.11.0->llama-index-embeddings-mistralai) (23.1.0)\n"
     ]
    },
    {
     "name": "stdout",
     "output_type": "stream",
     "text": [
      "Requirement already satisfied: frozenlist>=1.1.1 in /opt/anaconda3/lib/python3.11/site-packages (from aiohttp<4.0.0,>=3.8.6->llama-index-core<0.12.0,>=0.11.0->llama-index-embeddings-mistralai) (1.4.0)\n",
      "Requirement already satisfied: multidict<7.0,>=4.5 in /opt/anaconda3/lib/python3.11/site-packages (from aiohttp<4.0.0,>=3.8.6->llama-index-core<0.12.0,>=0.11.0->llama-index-embeddings-mistralai) (6.0.4)\n",
      "Requirement already satisfied: yarl<2.0,>=1.0 in /opt/anaconda3/lib/python3.11/site-packages (from aiohttp<4.0.0,>=3.8.6->llama-index-core<0.12.0,>=0.11.0->llama-index-embeddings-mistralai) (1.9.3)\n",
      "Requirement already satisfied: anyio in /opt/anaconda3/lib/python3.11/site-packages (from httpx->llama-index-core<0.12.0,>=0.11.0->llama-index-embeddings-mistralai) (4.2.0)\n",
      "Requirement already satisfied: certifi in /opt/anaconda3/lib/python3.11/site-packages (from httpx->llama-index-core<0.12.0,>=0.11.0->llama-index-embeddings-mistralai) (2024.6.2)\n",
      "Requirement already satisfied: httpcore==1.* in /opt/anaconda3/lib/python3.11/site-packages (from httpx->llama-index-core<0.12.0,>=0.11.0->llama-index-embeddings-mistralai) (1.0.2)\n",
      "Requirement already satisfied: idna in /opt/anaconda3/lib/python3.11/site-packages (from httpx->llama-index-core<0.12.0,>=0.11.0->llama-index-embeddings-mistralai) (3.4)\n",
      "Requirement already satisfied: sniffio in /opt/anaconda3/lib/python3.11/site-packages (from httpx->llama-index-core<0.12.0,>=0.11.0->llama-index-embeddings-mistralai) (1.3.0)\n",
      "Requirement already satisfied: h11<0.15,>=0.13 in /opt/anaconda3/lib/python3.11/site-packages (from httpcore==1.*->httpx->llama-index-core<0.12.0,>=0.11.0->llama-index-embeddings-mistralai) (0.14.0)\n",
      "Requirement already satisfied: click in /opt/anaconda3/lib/python3.11/site-packages (from nltk>3.8.1->llama-index-core<0.12.0,>=0.11.0->llama-index-embeddings-mistralai) (8.1.7)\n",
      "Requirement already satisfied: joblib in /opt/anaconda3/lib/python3.11/site-packages (from nltk>3.8.1->llama-index-core<0.12.0,>=0.11.0->llama-index-embeddings-mistralai) (1.2.0)\n",
      "Requirement already satisfied: regex>=2021.8.3 in /opt/anaconda3/lib/python3.11/site-packages (from nltk>3.8.1->llama-index-core<0.12.0,>=0.11.0->llama-index-embeddings-mistralai) (2023.10.3)\n",
      "Requirement already satisfied: annotated-types>=0.6.0 in /opt/anaconda3/lib/python3.11/site-packages (from pydantic<3.0.0,>=2.7.0->llama-index-core<0.12.0,>=0.11.0->llama-index-embeddings-mistralai) (0.7.0)\n",
      "Requirement already satisfied: pydantic-core==2.23.4 in /opt/anaconda3/lib/python3.11/site-packages (from pydantic<3.0.0,>=2.7.0->llama-index-core<0.12.0,>=0.11.0->llama-index-embeddings-mistralai) (2.23.4)\n",
      "Requirement already satisfied: charset-normalizer<4,>=2 in /opt/anaconda3/lib/python3.11/site-packages (from requests>=2.31.0->llama-index-core<0.12.0,>=0.11.0->llama-index-embeddings-mistralai) (3.3.2)\n",
      "Requirement already satisfied: urllib3<3,>=1.21.1 in /opt/anaconda3/lib/python3.11/site-packages (from requests>=2.31.0->llama-index-core<0.12.0,>=0.11.0->llama-index-embeddings-mistralai) (2.0.7)\n",
      "Requirement already satisfied: greenlet!=0.4.17 in /opt/anaconda3/lib/python3.11/site-packages (from SQLAlchemy[asyncio]>=1.4.49->llama-index-core<0.12.0,>=0.11.0->llama-index-embeddings-mistralai) (3.0.1)\n",
      "Requirement already satisfied: mypy-extensions>=0.3.0 in /opt/anaconda3/lib/python3.11/site-packages (from typing-inspect>=0.8.0->llama-index-core<0.12.0,>=0.11.0->llama-index-embeddings-mistralai) (1.0.0)\n",
      "Requirement already satisfied: marshmallow<4.0.0,>=3.18.0 in /opt/anaconda3/lib/python3.11/site-packages (from dataclasses-json->llama-index-core<0.12.0,>=0.11.0->llama-index-embeddings-mistralai) (3.21.2)\n",
      "Requirement already satisfied: packaging>=17.0 in /opt/anaconda3/lib/python3.11/site-packages (from marshmallow<4.0.0,>=3.18.0->dataclasses-json->llama-index-core<0.12.0,>=0.11.0->llama-index-embeddings-mistralai) (23.2)\n",
      "Note: you may need to restart the kernel to use updated packages.\n",
      "Requirement already satisfied: llama-index-embeddings-openai in /opt/anaconda3/lib/python3.11/site-packages (0.2.5)\n",
      "Requirement already satisfied: llama-index-core<0.12.0,>=0.11.0 in /opt/anaconda3/lib/python3.11/site-packages (from llama-index-embeddings-openai) (0.11.16)\n",
      "Requirement already satisfied: openai>=1.1.0 in /opt/anaconda3/lib/python3.11/site-packages (from llama-index-embeddings-openai) (1.50.2)\n",
      "Requirement already satisfied: PyYAML>=6.0.1 in /opt/anaconda3/lib/python3.11/site-packages (from llama-index-core<0.12.0,>=0.11.0->llama-index-embeddings-openai) (6.0.1)\n",
      "Requirement already satisfied: SQLAlchemy>=1.4.49 in /opt/anaconda3/lib/python3.11/site-packages (from SQLAlchemy[asyncio]>=1.4.49->llama-index-core<0.12.0,>=0.11.0->llama-index-embeddings-openai) (2.0.25)\n",
      "Requirement already satisfied: aiohttp<4.0.0,>=3.8.6 in /opt/anaconda3/lib/python3.11/site-packages (from llama-index-core<0.12.0,>=0.11.0->llama-index-embeddings-openai) (3.9.3)\n",
      "Requirement already satisfied: dataclasses-json in /opt/anaconda3/lib/python3.11/site-packages (from llama-index-core<0.12.0,>=0.11.0->llama-index-embeddings-openai) (0.6.6)\n",
      "Requirement already satisfied: deprecated>=1.2.9.3 in /opt/anaconda3/lib/python3.11/site-packages (from llama-index-core<0.12.0,>=0.11.0->llama-index-embeddings-openai) (1.2.14)\n",
      "Requirement already satisfied: dirtyjson<2.0.0,>=1.0.8 in /opt/anaconda3/lib/python3.11/site-packages (from llama-index-core<0.12.0,>=0.11.0->llama-index-embeddings-openai) (1.0.8)\n",
      "Requirement already satisfied: fsspec>=2023.5.0 in /opt/anaconda3/lib/python3.11/site-packages (from llama-index-core<0.12.0,>=0.11.0->llama-index-embeddings-openai) (2024.6.0)\n",
      "Requirement already satisfied: httpx in /opt/anaconda3/lib/python3.11/site-packages (from llama-index-core<0.12.0,>=0.11.0->llama-index-embeddings-openai) (0.27.0)\n",
      "Requirement already satisfied: nest-asyncio<2.0.0,>=1.5.8 in /opt/anaconda3/lib/python3.11/site-packages (from llama-index-core<0.12.0,>=0.11.0->llama-index-embeddings-openai) (1.6.0)\n",
      "Requirement already satisfied: networkx>=3.0 in /opt/anaconda3/lib/python3.11/site-packages (from llama-index-core<0.12.0,>=0.11.0->llama-index-embeddings-openai) (3.1)\n",
      "Requirement already satisfied: nltk>3.8.1 in /opt/anaconda3/lib/python3.11/site-packages (from llama-index-core<0.12.0,>=0.11.0->llama-index-embeddings-openai) (3.9.1)\n",
      "Requirement already satisfied: numpy<2.0.0 in /opt/anaconda3/lib/python3.11/site-packages (from llama-index-core<0.12.0,>=0.11.0->llama-index-embeddings-openai) (1.26.4)\n",
      "Requirement already satisfied: pillow>=9.0.0 in /opt/anaconda3/lib/python3.11/site-packages (from llama-index-core<0.12.0,>=0.11.0->llama-index-embeddings-openai) (10.2.0)\n",
      "Requirement already satisfied: pydantic<3.0.0,>=2.7.0 in /opt/anaconda3/lib/python3.11/site-packages (from llama-index-core<0.12.0,>=0.11.0->llama-index-embeddings-openai) (2.9.2)\n",
      "Requirement already satisfied: requests>=2.31.0 in /opt/anaconda3/lib/python3.11/site-packages (from llama-index-core<0.12.0,>=0.11.0->llama-index-embeddings-openai) (2.32.3)\n",
      "Requirement already satisfied: tenacity!=8.4.0,<9.0.0,>=8.2.0 in /opt/anaconda3/lib/python3.11/site-packages (from llama-index-core<0.12.0,>=0.11.0->llama-index-embeddings-openai) (8.3.0)\n",
      "Requirement already satisfied: tiktoken>=0.3.3 in /opt/anaconda3/lib/python3.11/site-packages (from llama-index-core<0.12.0,>=0.11.0->llama-index-embeddings-openai) (0.7.0)\n",
      "Requirement already satisfied: tqdm<5.0.0,>=4.66.1 in /opt/anaconda3/lib/python3.11/site-packages (from llama-index-core<0.12.0,>=0.11.0->llama-index-embeddings-openai) (4.66.4)\n",
      "Requirement already satisfied: typing-extensions>=4.5.0 in /opt/anaconda3/lib/python3.11/site-packages (from llama-index-core<0.12.0,>=0.11.0->llama-index-embeddings-openai) (4.12.2)\n",
      "Requirement already satisfied: typing-inspect>=0.8.0 in /opt/anaconda3/lib/python3.11/site-packages (from llama-index-core<0.12.0,>=0.11.0->llama-index-embeddings-openai) (0.9.0)\n",
      "Requirement already satisfied: wrapt in /opt/anaconda3/lib/python3.11/site-packages (from llama-index-core<0.12.0,>=0.11.0->llama-index-embeddings-openai) (1.14.1)\n",
      "Requirement already satisfied: anyio<5,>=3.5.0 in /opt/anaconda3/lib/python3.11/site-packages (from openai>=1.1.0->llama-index-embeddings-openai) (4.2.0)\n",
      "Requirement already satisfied: distro<2,>=1.7.0 in /opt/anaconda3/lib/python3.11/site-packages (from openai>=1.1.0->llama-index-embeddings-openai) (1.8.0)\n",
      "Requirement already satisfied: jiter<1,>=0.4.0 in /opt/anaconda3/lib/python3.11/site-packages (from openai>=1.1.0->llama-index-embeddings-openai) (0.5.0)\n",
      "Requirement already satisfied: sniffio in /opt/anaconda3/lib/python3.11/site-packages (from openai>=1.1.0->llama-index-embeddings-openai) (1.3.0)\n",
      "Requirement already satisfied: aiosignal>=1.1.2 in /opt/anaconda3/lib/python3.11/site-packages (from aiohttp<4.0.0,>=3.8.6->llama-index-core<0.12.0,>=0.11.0->llama-index-embeddings-openai) (1.2.0)\n",
      "Requirement already satisfied: attrs>=17.3.0 in /opt/anaconda3/lib/python3.11/site-packages (from aiohttp<4.0.0,>=3.8.6->llama-index-core<0.12.0,>=0.11.0->llama-index-embeddings-openai) (23.1.0)\n",
      "Requirement already satisfied: frozenlist>=1.1.1 in /opt/anaconda3/lib/python3.11/site-packages (from aiohttp<4.0.0,>=3.8.6->llama-index-core<0.12.0,>=0.11.0->llama-index-embeddings-openai) (1.4.0)\n",
      "Requirement already satisfied: multidict<7.0,>=4.5 in /opt/anaconda3/lib/python3.11/site-packages (from aiohttp<4.0.0,>=3.8.6->llama-index-core<0.12.0,>=0.11.0->llama-index-embeddings-openai) (6.0.4)\n",
      "Requirement already satisfied: yarl<2.0,>=1.0 in /opt/anaconda3/lib/python3.11/site-packages (from aiohttp<4.0.0,>=3.8.6->llama-index-core<0.12.0,>=0.11.0->llama-index-embeddings-openai) (1.9.3)\n",
      "Requirement already satisfied: idna>=2.8 in /opt/anaconda3/lib/python3.11/site-packages (from anyio<5,>=3.5.0->openai>=1.1.0->llama-index-embeddings-openai) (3.4)\n"
     ]
    },
    {
     "name": "stdout",
     "output_type": "stream",
     "text": [
      "Requirement already satisfied: certifi in /opt/anaconda3/lib/python3.11/site-packages (from httpx->llama-index-core<0.12.0,>=0.11.0->llama-index-embeddings-openai) (2024.6.2)\n",
      "Requirement already satisfied: httpcore==1.* in /opt/anaconda3/lib/python3.11/site-packages (from httpx->llama-index-core<0.12.0,>=0.11.0->llama-index-embeddings-openai) (1.0.2)\n",
      "Requirement already satisfied: h11<0.15,>=0.13 in /opt/anaconda3/lib/python3.11/site-packages (from httpcore==1.*->httpx->llama-index-core<0.12.0,>=0.11.0->llama-index-embeddings-openai) (0.14.0)\n",
      "Requirement already satisfied: click in /opt/anaconda3/lib/python3.11/site-packages (from nltk>3.8.1->llama-index-core<0.12.0,>=0.11.0->llama-index-embeddings-openai) (8.1.7)\n",
      "Requirement already satisfied: joblib in /opt/anaconda3/lib/python3.11/site-packages (from nltk>3.8.1->llama-index-core<0.12.0,>=0.11.0->llama-index-embeddings-openai) (1.2.0)\n",
      "Requirement already satisfied: regex>=2021.8.3 in /opt/anaconda3/lib/python3.11/site-packages (from nltk>3.8.1->llama-index-core<0.12.0,>=0.11.0->llama-index-embeddings-openai) (2023.10.3)\n",
      "Requirement already satisfied: annotated-types>=0.6.0 in /opt/anaconda3/lib/python3.11/site-packages (from pydantic<3.0.0,>=2.7.0->llama-index-core<0.12.0,>=0.11.0->llama-index-embeddings-openai) (0.7.0)\n",
      "Requirement already satisfied: pydantic-core==2.23.4 in /opt/anaconda3/lib/python3.11/site-packages (from pydantic<3.0.0,>=2.7.0->llama-index-core<0.12.0,>=0.11.0->llama-index-embeddings-openai) (2.23.4)\n",
      "Requirement already satisfied: charset-normalizer<4,>=2 in /opt/anaconda3/lib/python3.11/site-packages (from requests>=2.31.0->llama-index-core<0.12.0,>=0.11.0->llama-index-embeddings-openai) (3.3.2)\n",
      "Requirement already satisfied: urllib3<3,>=1.21.1 in /opt/anaconda3/lib/python3.11/site-packages (from requests>=2.31.0->llama-index-core<0.12.0,>=0.11.0->llama-index-embeddings-openai) (2.0.7)\n",
      "Requirement already satisfied: greenlet!=0.4.17 in /opt/anaconda3/lib/python3.11/site-packages (from SQLAlchemy[asyncio]>=1.4.49->llama-index-core<0.12.0,>=0.11.0->llama-index-embeddings-openai) (3.0.1)\n",
      "Requirement already satisfied: mypy-extensions>=0.3.0 in /opt/anaconda3/lib/python3.11/site-packages (from typing-inspect>=0.8.0->llama-index-core<0.12.0,>=0.11.0->llama-index-embeddings-openai) (1.0.0)\n",
      "Requirement already satisfied: marshmallow<4.0.0,>=3.18.0 in /opt/anaconda3/lib/python3.11/site-packages (from dataclasses-json->llama-index-core<0.12.0,>=0.11.0->llama-index-embeddings-openai) (3.21.2)\n",
      "Requirement already satisfied: packaging>=17.0 in /opt/anaconda3/lib/python3.11/site-packages (from marshmallow<4.0.0,>=3.18.0->dataclasses-json->llama-index-core<0.12.0,>=0.11.0->llama-index-embeddings-openai) (23.2)\n",
      "Requirement already satisfied: python-dotenv in /opt/anaconda3/lib/python3.11/site-packages (0.21.0)\n"
     ]
    }
   ],
   "source": [
    "%pip install llama-index-core \n",
    "%pip install llama-index-graph-stores-neo4j\n",
    "%pip install llama-index-llms-mistralai\n",
    "%pip install llama-index-embeddings-mistralai\n",
    "!pip install llama-index-embeddings-openai --upgrade\n",
    "!pip install python-dotenv"
   ]
  },
  {
   "cell_type": "markdown",
   "metadata": {},
   "source": [
    "## Docker Setup"
   ]
  },
  {
   "cell_type": "code",
   "execution_count": null,
   "metadata": {},
   "outputs": [
    {
     "name": "stdout",
     "output_type": "stream",
     "text": [
      "Unable to find image 'neo4j:latest' locally\n",
      "latest: Pulling from library/neo4j\n",
      "\n",
      "\u001b[1Bc7c08455: Pulling fs layer \n",
      "\u001b[1B7d49f52d: Pulling fs layer \n",
      "\u001b[1Bc86c75ab: Pulling fs layer \n",
      "\u001b[1B4dbbe75b: Pulling fs layer \n",
      "\u001b[1B6abc7988: Pulling fs layer \n",
      "\u001b[5B7d49f52d: Downloading  121.9MB/144MBMB\u001b[6A\u001b[2K\u001b[5A\u001b[2K\u001b[6A\u001b[2K\u001b[5A\u001b[2K\u001b[6A\u001b[2K\u001b[5A\u001b[2K\u001b[6A\u001b[2K\u001b[5A\u001b[2K\u001b[6A\u001b[2K\u001b[6A\u001b[2K\u001b[5A\u001b[2K\u001b[3A\u001b[2K\u001b[6A\u001b[2K\u001b[5A\u001b[2K\u001b[6A\u001b[2K\u001b[6A\u001b[2K\u001b[6A\u001b[2K\u001b[6A\u001b[2K\u001b[5A\u001b[2K\u001b[6A\u001b[2K\u001b[5A\u001b[2K\u001b[6A\u001b[2K\u001b[6A\u001b[2K\u001b[5A\u001b[2K\u001b[6A\u001b[2K\u001b[5A\u001b[2K\u001b[6A\u001b[2K\u001b[6A\u001b[2K\u001b[6A\u001b[2K\u001b[6A\u001b[2K\u001b[2A\u001b[2K\u001b[5A\u001b[2K\u001b[2A\u001b[2K\u001b[5A\u001b[2K\u001b[6A\u001b[2K\u001b[6A\u001b[2K\u001b[2A\u001b[2K\u001b[6A\u001b[2K\u001b[2A\u001b[2K\u001b[5A\u001b[2K\u001b[6A\u001b[2K\u001b[2A\u001b[2K\u001b[5A\u001b[2K\u001b[6A\u001b[2K\u001b[2A\u001b[2K\u001b[6A\u001b[2K\u001b[5A\u001b[2K\u001b[2A\u001b[2K\u001b[6A\u001b[2K\u001b[2A\u001b[2K\u001b[5A\u001b[2K\u001b[2A\u001b[2K\u001b[2A\u001b[2K\u001b[6A\u001b[2K\u001b[5A\u001b[2K\u001b[6A\u001b[2K\u001b[5A\u001b[2K\u001b[2A\u001b[2K\u001b[2A\u001b[2K\u001b[6A\u001b[2K\u001b[5A\u001b[2K\u001b[2A\u001b[2K\u001b[6A\u001b[2K\u001b[2A\u001b[2K\u001b[5A\u001b[2K\u001b[2A\u001b[2K\u001b[2A\u001b[2K\u001b[6A\u001b[2K\u001b[5A\u001b[2K\u001b[6A\u001b[2K\u001b[2A\u001b[2K\u001b[2A\u001b[2KDownloading  13.48MB/127.2MB\u001b[2A\u001b[2K\u001b[2A\u001b[2K\u001b[5A\u001b[2K\u001b[6A\u001b[2K\u001b[2A\u001b[2K\u001b[2A\u001b[2K\u001b[6A\u001b[2K\u001b[5A\u001b[2K\u001b[6A\u001b[2K\u001b[6A\u001b[2K\u001b[5A\u001b[2K\u001b[6A\u001b[2K\u001b[2A\u001b[2K\u001b[6A\u001b[2K\u001b[2A\u001b[2K\u001b[6A\u001b[2K\u001b[2A\u001b[2K\u001b[6A\u001b[2K\u001b[2A\u001b[2K\u001b[5A\u001b[2K\u001b[6A\u001b[2K\u001b[2A\u001b[2K\u001b[6A\u001b[2K\u001b[5A\u001b[2K\u001b[6A\u001b[2K\u001b[2A\u001b[2K\u001b[6A\u001b[2K\u001b[5A\u001b[2K\u001b[6A\u001b[2K\u001b[2A\u001b[2K\u001b[5A\u001b[2K\u001b[6A\u001b[2K\u001b[6A\u001b[2K\u001b[5A\u001b[2K\u001b[6A\u001b[2K\u001b[2A\u001b[2K\u001b[6A\u001b[2K\u001b[5A\u001b[2K\u001b[2A\u001b[2K\u001b[6A\u001b[2K\u001b[2A\u001b[2K\u001b[6A\u001b[2K\u001b[2A\u001b[2K\u001b[5A\u001b[2K\u001b[6A\u001b[2K\u001b[2A\u001b[2K\u001b[2A\u001b[2K\u001b[5A\u001b[2K\u001b[2A\u001b[2K\u001b[6A\u001b[2K\u001b[2A\u001b[2K\u001b[5A\u001b[2K\u001b[6A\u001b[2K\u001b[2A\u001b[2K\u001b[6A\u001b[2K\u001b[2A\u001b[2K\u001b[5A\u001b[2K\u001b[6A\u001b[2K\u001b[2A\u001b[2K\u001b[6A\u001b[2K\u001b[2A\u001b[2K\u001b[6A\u001b[2K\u001b[5A\u001b[2K\u001b[2A\u001b[2K\u001b[6A\u001b[2K\u001b[2A\u001b[2K\u001b[2A\u001b[2K\u001b[2A\u001b[2K\u001b[6A\u001b[2K\u001b[5A\u001b[2K\u001b[6A\u001b[2K\u001b[2A\u001b[2K\u001b[6A\u001b[2K\u001b[2A\u001b[2K\u001b[5A\u001b[2K\u001b[6A\u001b[2K\u001b[2A\u001b[2K\u001b[6A\u001b[2K\u001b[2A\u001b[2K\u001b[5A\u001b[2K\u001b[6A\u001b[2K\u001b[6A\u001b[2K\u001b[6A\u001b[2K\u001b[2A\u001b[2K\u001b[6A\u001b[2K\u001b[6A\u001b[2K\u001b[5A\u001b[2K\u001b[2A\u001b[2K\u001b[6A\u001b[2K\u001b[2A\u001b[2K\u001b[5A\u001b[2K\u001b[6A\u001b[2K\u001b[2A\u001b[2K\u001b[2A\u001b[2K\u001b[6A\u001b[2K\u001b[2A\u001b[2K\u001b[5A\u001b[2K\u001b[6A\u001b[2K\u001b[2A\u001b[2K\u001b[6A\u001b[2K\u001b[6A\u001b[2K\u001b[5A\u001b[2K\u001b[6A\u001b[2K\u001b[2A\u001b[2K\u001b[6A\u001b[2K\u001b[6A\u001b[2K\u001b[2A\u001b[2K\u001b[5A\u001b[2K\u001b[6A\u001b[2K\u001b[6A\u001b[2K\u001b[2A\u001b[2K\u001b[6A\u001b[2K\u001b[6A\u001b[2K\u001b[6A\u001b[2K\u001b[6A\u001b[2K\u001b[6A\u001b[2K\u001b[6A\u001b[2K\u001b[6A\u001b[2K\u001b[6A\u001b[2K\u001b[1A\u001b[2K\u001b[6A\u001b[2K\u001b[5A\u001b[2K\u001b[6A\u001b[2K\u001b[6A\u001b[2K\u001b[2A\u001b[2K\u001b[6A\u001b[2K\u001b[6A\u001b[2K\u001b[5A\u001b[2K\u001b[2A\u001b[2K\u001b[5A\u001b[2K\u001b[2A\u001b[2K\u001b[5A\u001b[2K\u001b[2A\u001b[2K\u001b[5A\u001b[2K\u001b[2A\u001b[2K\u001b[2A\u001b[2K\u001b[5A\u001b[2K\u001b[2A\u001b[2K\u001b[5A\u001b[2K\u001b[2A\u001b[2K\u001b[5A\u001b[2K\u001b[2A\u001b[2K\u001b[2A\u001b[2K\u001b[5A\u001b[2K\u001b[2A\u001b[2K\u001b[5A\u001b[2K\u001b[2A\u001b[2K\u001b[5A\u001b[2K\u001b[2A\u001b[2K\u001b[5A\u001b[2K\u001b[2A\u001b[2K\u001b[5A\u001b[2K\u001b[2A\u001b[2K\u001b[5A\u001b[2K\u001b[2A\u001b[2K\u001b[2A\u001b[2K\u001b[5A\u001b[2K\u001b[2A\u001b[2K\u001b[5A\u001b[2K\u001b[2A\u001b[2K\u001b[5A\u001b[2K\u001b[2A\u001b[2K\u001b[2A\u001b[2K\u001b[5A\u001b[2K\u001b[2A\u001b[2K\u001b[5A\u001b[2K\u001b[2A\u001b[2K\u001b[5A\u001b[2K\u001b[2A\u001b[2K\u001b[5A\u001b[2K\u001b[2A\u001b[2K\u001b[2A\u001b[2K\u001b[2A\u001b[2K\u001b[2A\u001b[2K\u001b[5A\u001b[2K\u001b[2A\u001b[2K\u001b[5A\u001b[2K\u001b[2A\u001b[2K\u001b[5A\u001b[2K\u001b[2A\u001b[2K\u001b[5A\u001b[2K\u001b[2A\u001b[2K\u001b[5A\u001b[2K\u001b[2A\u001b[2K\u001b[5A\u001b[2K\u001b[2A\u001b[2K\u001b[5A\u001b[2K\u001b[2A\u001b[2K\u001b[5A\u001b[2K\u001b[2A\u001b[2K\u001b[5A\u001b[2K\u001b[2A\u001b[2K\u001b[5A\u001b[2K\u001b[2A\u001b[2K\u001b[5A\u001b[2K\u001b[2A\u001b[2K\u001b[5A\u001b[2K\u001b[2A\u001b[2K\u001b[5A\u001b[2K\u001b[5A\u001b[2K\u001b[2A\u001b[2K\u001b[5A\u001b[2K\u001b[2A\u001b[2K\u001b[5A\u001b[2K\u001b[2A\u001b[2K\u001b[5A\u001b[2K\u001b[2A\u001b[2K\u001b[5A\u001b[2K\u001b[2A\u001b[2K\u001b[5A\u001b[2K\u001b[2A\u001b[2K\u001b[5A\u001b[2K\u001b[5A\u001b[2K\u001b[5A\u001b[2K\u001b[2A\u001b[2K\u001b[5A\u001b[2K\u001b[2A\u001b[2K\u001b[5A\u001b[2K\u001b[2A\u001b[2K\u001b[5A\u001b[2K\u001b[2A\u001b[2K\u001b[5A\u001b[2K\u001b[5A\u001b[2K\u001b[2A\u001b[2K\u001b[5A\u001b[2K\u001b[2A\u001b[2K\u001b[5A\u001b[2K\u001b[2A\u001b[2K\u001b[5A\u001b[2K\u001b[2A\u001b[2K\u001b[5A\u001b[2K\u001b[5A\u001b[2K\u001b[2A\u001b[2K\u001b[5A\u001b[2K\u001b[2A\u001b[2K\u001b[5A\u001b[2K\u001b[2A\u001b[2K\u001b[5A\u001b[2K\u001b[5A\u001b[2K\u001b[2A\u001b[2K\u001b[5A\u001b[2K\u001b[2A\u001b[2K\u001b[5A\u001b[2K\u001b[2A\u001b[2K\u001b[5A\u001b[2K\u001b[2A\u001b[2K\u001b[5A\u001b[2K\u001b[2A\u001b[2K\u001b[5A\u001b[2K\u001b[2A\u001b[2K\u001b[5A\u001b[2K\u001b[2A\u001b[2K\u001b[5A\u001b[2K\u001b[2A\u001b[2K\u001b[5A\u001b[2K\u001b[5A\u001b[2K\u001b[2A\u001b[2K\u001b[5A\u001b[2K\u001b[2A\u001b[2K\u001b[5A\u001b[2K\u001b[2A\u001b[2K\u001b[5A\u001b[2K\u001b[2A\u001b[2K\u001b[5A\u001b[2K\u001b[5A\u001b[2K\u001b[2A\u001b[2K\u001b[5A\u001b[2K\u001b[2A\u001b[2K\u001b[5A\u001b[2K\u001b[2A\u001b[2K\u001b[5A\u001b[2K\u001b[5A\u001b[2K\u001b[2A\u001b[2K\u001b[2A\u001b[2K\u001b[5A\u001b[2K\u001b[2A\u001b[2K\u001b[5A\u001b[2K\u001b[2A\u001b[2K\u001b[5A\u001b[2K\u001b[2A\u001b[2K\u001b[5A\u001b[2K\u001b[2A\u001b[2K\u001b[5A\u001b[2K\u001b[2A\u001b[2K\u001b[5A\u001b[2K\u001b[5A\u001b[2K\u001b[2A\u001b[2K\u001b[5A\u001b[2K\u001b[2A\u001b[2K\u001b[5A\u001b[2K\u001b[2A\u001b[2K\u001b[5A\u001b[2K\u001b[5A\u001b[2K\u001b[2A\u001b[2K\u001b[5A\u001b[2K\u001b[2A\u001b[2K\u001b[5A\u001b[2K\u001b[2A\u001b[2K\u001b[5A\u001b[2K\u001b[2A\u001b[2K\u001b[5A\u001b[2K\u001b[2A\u001b[2K\u001b[5A\u001b[2K\u001b[5A\u001b[2K\u001b[5A\u001b[2K\u001b[2A\u001b[2K\u001b[5A\u001b[2K\u001b[2A\u001b[2K\u001b[5A\u001b[2K\u001b[2A\u001b[2K\u001b[5A\u001b[2K\u001b[5A\u001b[2K\u001b[2A\u001b[2K\u001b[5A\u001b[2K\u001b[2A\u001b[2K\u001b[5A\u001b[2K\u001b[5A\u001b[2K\u001b[2A\u001b[2K\u001b[5A\u001b[2K\u001b[2A\u001b[2K\u001b[5A\u001b[2K\u001b[5A\u001b[2K\u001b[2A\u001b[2K\u001b[5A\u001b[2K\u001b[2A\u001b[2K\u001b[5A\u001b[2K\u001b[5A\u001b[2K\u001b[5A\u001b[2K\u001b[2A\u001b[2K\u001b[5A\u001b[2K\u001b[2A\u001b[2K\u001b[5A\u001b[2K\u001b[5A\u001b[2K\u001b[2A\u001b[2K\u001b[5A\u001b[2K\u001b[5A\u001b[2K\u001b[2A\u001b[2K\u001b[5A\u001b[2K\u001b[5A\u001b[2K\u001b[2A\u001b[2K\u001b[5A\u001b[2K\u001b[5A\u001b[2K\u001b[2A\u001b[2K\u001b[5A\u001b[2K\u001b[5A\u001b[2K\u001b[2A\u001b[2K\u001b[5A\u001b[2K\u001b[5A\u001b[2K\u001b[2A\u001b[2K\u001b[5A\u001b[2K\u001b[5A\u001b[2K\u001b[5A\u001b[2K\u001b[2A\u001b[2K\u001b[5A\u001b[2K\u001b[5A\u001b[2K\u001b[5A\u001b[2K\u001b[2A\u001b[2K\u001b[5A\u001b[2K\u001b[5A\u001b[2K\u001b[5A\u001b[2K\u001b[2A\u001b[2K\u001b[5A\u001b[2K\u001b[5A\u001b[2K\u001b[5A\u001b[2K\u001b[5A\u001b[2K\u001b[5A\u001b[2K\u001b[2A\u001b[2K\u001b[5A\u001b[2K\u001b[5A\u001b[2K\u001b[2A\u001b[2K\u001b[5A\u001b[2K\u001b[5A\u001b[2K\u001b[5A\u001b[2K\u001b[5A\u001b[2K\u001b[5A\u001b[2K\u001b[2A\u001b[2K\u001b[5A\u001b[2K\u001b[5A\u001b[2K\u001b[2A\u001b[2K\u001b[5A\u001b[2K\u001b[5A\u001b[2K\u001b[2A\u001b[2K\u001b[5A\u001b[2K\u001b[2A\u001b[2K\u001b[5A\u001b[2K\u001b[5A\u001b[2K\u001b[2A\u001b[2K\u001b[5A\u001b[2K\u001b[2A\u001b[2K\u001b[5A\u001b[2K\u001b[2A\u001b[2K\u001b[5A\u001b[2K\u001b[5A\u001b[2K\u001b[2A\u001b[2K\u001b[5A\u001b[2K\u001b[5A\u001b[2K\u001b[5A\u001b[2K\u001b[2A\u001b[2K\u001b[5A\u001b[2K\u001b[2A\u001b[2K\u001b[5A\u001b[2K\u001b[2A\u001b[2K\u001b[5A\u001b[2K\u001b[2A\u001b[2K\u001b[5A\u001b[2K\u001b[2A\u001b[2K\u001b[5A\u001b[2K\u001b[5A\u001b[2K\u001b[2A\u001b[2K\u001b[5A\u001b[2K\u001b[2A\u001b[2K\u001b[5A\u001b[2K\u001b[5A\u001b[2K\u001b[2A\u001b[2K\u001b[5A\u001b[2K^C\n"
     ]
    }
   ],
   "source": [
    "# !docker run \\\n",
    "#     -p 7474:7474 -p 7687:7687 \\\n",
    "#     -v $PWD/data:/data -v $PWD/plugins:/plugins \\\n",
    "#     --name neo4j-apoc \\\n",
    "#     -e NEO4J_apoc_export_file_enabled=true \\\n",
    "#     -e NEO4J_apoc_import_file_enabled=true \\\n",
    "#     -e NEO4J_apoc_import_file_use__neo4j__config=true \\\n",
    "#     -e NEO4JLABS_PLUGINS=\\[\\\"apoc\\\"\\] \\\n",
    "#     neo4j:latest"
   ]
  },
  {
   "cell_type": "markdown",
   "metadata": {},
   "source": [
    "## Setup"
   ]
  },
  {
   "cell_type": "code",
   "execution_count": 2,
   "metadata": {},
   "outputs": [],
   "source": [
    "import nest_asyncio\n",
    "from IPython.display import Markdown, display\n",
    "from dotenv import load_dotenv\n",
    "import os \n",
    "import pprint\n",
    "\n",
    "load_dotenv()\n",
    "nest_asyncio.apply()\n"
   ]
  },
  {
   "cell_type": "code",
   "execution_count": 3,
   "metadata": {},
   "outputs": [],
   "source": [
    "# from llama_index.embeddings.mistralai import MistralAIEmbedding\n",
    "# from llama_index.llms.mistralai import MistralAI\n",
    "from llama_index.llms.openai import OpenAI\n",
    "from llama_index.embeddings.openai import OpenAIEmbedding\n",
    "from llama_index.core import Settings\n",
    "\n",
    "\n",
    "llm = OpenAI(model='gpt-4o-mini')\n",
    "embed_model = OpenAIEmbedding(model=\"text-embedding-3-small\")"
   ]
  },
  {
   "cell_type": "markdown",
   "metadata": {},
   "source": [
    "## Download Data "
   ]
  },
  {
   "cell_type": "code",
   "execution_count": 4,
   "metadata": {},
   "outputs": [],
   "source": [
    "import json\n",
    "from pprint import pprint \n",
    "from llama_index.core import Document \n"
   ]
  },
  {
   "cell_type": "code",
   "execution_count": 8,
   "metadata": {},
   "outputs": [],
   "source": [
    "data = None \n",
    "\n",
    "file_path = 'data.json'\n",
    "with open (file_path, 'r') as f:\n",
    "    data = json.load(f)"
   ]
  },
  {
   "cell_type": "code",
   "execution_count": 9,
   "metadata": {},
   "outputs": [],
   "source": [
    "documents = [Document(text=json.dumps(item)) for item in data]"
   ]
  },
  {
   "cell_type": "code",
   "execution_count": 10,
   "metadata": {},
   "outputs": [
    {
     "name": "stdout",
     "output_type": "stream",
     "text": [
      "[Document(id_='5dedaa58-125a-4ba7-a2ce-55842f731284', embedding=None, metadata={}, excluded_embed_metadata_keys=[], excluded_llm_metadata_keys=[], relationships={}, text='{\"name\": \"John Anderson\", \"interests\": \"I\\'m developing a smart grid management system to improve energy efficiency in urban areas.\", \"location\": \"San Francisco, CA\"}', mimetype='text/plain', start_char_idx=None, end_char_idx=None, text_template='{metadata_str}\\n\\n{content}', metadata_template='{key}: {value}', metadata_seperator='\\n'),\n",
      " Document(id_='56efe129-b0f8-4def-bbf0-981993aa103a', embedding=None, metadata={}, excluded_embed_metadata_keys=[], excluded_llm_metadata_keys=[], relationships={}, text='{\"name\": \"Emily Smith\", \"interests\": \"I\\'m working on optimizing solar panel performance using machine learning to predict energy outputs.\", \"location\": \"Austin, TX\"}', mimetype='text/plain', start_char_idx=None, end_char_idx=None, text_template='{metadata_str}\\n\\n{content}', metadata_template='{key}: {value}', metadata_seperator='\\n'),\n",
      " Document(id_='836f53bc-d261-48c4-9d49-c4f43042799c', embedding=None, metadata={}, excluded_embed_metadata_keys=[], excluded_llm_metadata_keys=[], relationships={}, text='{\"name\": \"Michael Thompson\", \"interests\": \"I am involved in a project that explores wind energy solutions for offshore installations.\", \"location\": \"Boston, MA\"}', mimetype='text/plain', start_char_idx=None, end_char_idx=None, text_template='{metadata_str}\\n\\n{content}', metadata_template='{key}: {value}', metadata_seperator='\\n'),\n",
      " Document(id_='5f68d84a-63f0-4c76-bfe7-73cf6686e378', embedding=None, metadata={}, excluded_embed_metadata_keys=[], excluded_llm_metadata_keys=[], relationships={}, text='{\"name\": \"Sophia Patel\", \"interests\": \"My team is building an AI climate risk assessment tool to help investors vet and validate sustainability reports.\", \"location\": \"New York, NY\"}', mimetype='text/plain', start_char_idx=None, end_char_idx=None, text_template='{metadata_str}\\n\\n{content}', metadata_template='{key}: {value}', metadata_seperator='\\n'),\n",
      " Document(id_='8d6ea4ca-2a3e-4403-ae19-448212019a3a', embedding=None, metadata={}, excluded_embed_metadata_keys=[], excluded_llm_metadata_keys=[], relationships={}, text='{\"name\": \"Liam Johnson\", \"interests\": \"I\\'m developing a carbon capture technology aimed at reducing industrial emissions.\", \"location\": \"Portland, OR\"}', mimetype='text/plain', start_char_idx=None, end_char_idx=None, text_template='{metadata_str}\\n\\n{content}', metadata_template='{key}: {value}', metadata_seperator='\\n'),\n",
      " Document(id_='4d3ca1ff-2477-4d0a-b66c-bd13ce366da0', embedding=None, metadata={}, excluded_embed_metadata_keys=[], excluded_llm_metadata_keys=[], relationships={}, text='{\"name\": \"Olivia Martinez\", \"interests\": \"I\\'m researching green hydrogen production methods to replace fossil fuels in heavy industry.\", \"location\": \"Los Angeles, CA\"}', mimetype='text/plain', start_char_idx=None, end_char_idx=None, text_template='{metadata_str}\\n\\n{content}', metadata_template='{key}: {value}', metadata_seperator='\\n'),\n",
      " Document(id_='2d6e7860-cbd5-4899-a321-9602779cbe08', embedding=None, metadata={}, excluded_embed_metadata_keys=[], excluded_llm_metadata_keys=[], relationships={}, text='{\"name\": \"David Lee\", \"interests\": \"I\\'m part of a startup that focuses on creating biodegradable materials for packaging to reduce plastic waste.\", \"location\": \"Chicago, IL\"}', mimetype='text/plain', start_char_idx=None, end_char_idx=None, text_template='{metadata_str}\\n\\n{content}', metadata_template='{key}: {value}', metadata_seperator='\\n'),\n",
      " Document(id_='5cdd3852-cf95-4662-9573-087483c2c9e3', embedding=None, metadata={}, excluded_embed_metadata_keys=[], excluded_llm_metadata_keys=[], relationships={}, text='{\"name\": \"Ava Walker\", \"interests\": \"I\\'m leading a project that integrates IoT sensors to monitor and reduce water waste in agriculture.\", \"location\": \"Denver, CO\"}', mimetype='text/plain', start_char_idx=None, end_char_idx=None, text_template='{metadata_str}\\n\\n{content}', metadata_template='{key}: {value}', metadata_seperator='\\n'),\n",
      " Document(id_='d4515b9b-963b-41c9-93ce-4f2bf02c76a1', embedding=None, metadata={}, excluded_embed_metadata_keys=[], excluded_llm_metadata_keys=[], relationships={}, text='{\"name\": \"Ethan Brown\", \"interests\": \"I\\'m researching urban cooling solutions to combat heat islands and improve air quality in cities.\", \"location\": \"Phoenix, AZ\"}', mimetype='text/plain', start_char_idx=None, end_char_idx=None, text_template='{metadata_str}\\n\\n{content}', metadata_template='{key}: {value}', metadata_seperator='\\n'),\n",
      " Document(id_='5a2a5a59-e95c-4f9b-95ac-d09e63c3c3e5', embedding=None, metadata={}, excluded_embed_metadata_keys=[], excluded_llm_metadata_keys=[], relationships={}, text='{\"name\": \"Isabella Davis\", \"interests\": \"I\\'m developing an app that helps businesses track and lower their carbon footprint through data-driven insights.\", \"location\": \"Seattle, WA\"}', mimetype='text/plain', start_char_idx=None, end_char_idx=None, text_template='{metadata_str}\\n\\n{content}', metadata_template='{key}: {value}', metadata_seperator='\\n'),\n",
      " Document(id_='8e94ca18-4fad-4042-bbc0-c34d4901336c', embedding=None, metadata={}, excluded_embed_metadata_keys=[], excluded_llm_metadata_keys=[], relationships={}, text='{\"name\": \"Jackson Reed\", \"interests\": \"I\\'m exploring energy storage solutions to improve the efficiency of renewable energy grids.\", \"location\": \"Philadelphia, PA\"}', mimetype='text/plain', start_char_idx=None, end_char_idx=None, text_template='{metadata_str}\\n\\n{content}', metadata_template='{key}: {value}', metadata_seperator='\\n'),\n",
      " Document(id_='20d29240-1775-49e5-a585-7e9ed321178a', embedding=None, metadata={}, excluded_embed_metadata_keys=[], excluded_llm_metadata_keys=[], relationships={}, text='{\"name\": \"Mia Young\", \"interests\": \"I\\'m building a software platform to streamline the recycling process in urban centers.\", \"location\": \"Miami, FL\"}', mimetype='text/plain', start_char_idx=None, end_char_idx=None, text_template='{metadata_str}\\n\\n{content}', metadata_template='{key}: {value}', metadata_seperator='\\n'),\n",
      " Document(id_='2237aec2-463e-4929-a86d-f63ac2dce461', embedding=None, metadata={}, excluded_embed_metadata_keys=[], excluded_llm_metadata_keys=[], relationships={}, text='{\"name\": \"Alexander White\", \"interests\": \"I\\'m researching ways to harness wave energy as a clean power source.\", \"location\": \"San Diego, CA\"}', mimetype='text/plain', start_char_idx=None, end_char_idx=None, text_template='{metadata_str}\\n\\n{content}', metadata_template='{key}: {value}', metadata_seperator='\\n'),\n",
      " Document(id_='9de05914-0fe7-42b9-bc2f-607391f33f8e', embedding=None, metadata={}, excluded_embed_metadata_keys=[], excluded_llm_metadata_keys=[], relationships={}, text='{\"name\": \"Charlotte Green\", \"interests\": \"I\\'m designing energy-efficient building materials to reduce construction\\'s environmental impact.\", \"location\": \"Houston, TX\"}', mimetype='text/plain', start_char_idx=None, end_char_idx=None, text_template='{metadata_str}\\n\\n{content}', metadata_template='{key}: {value}', metadata_seperator='\\n'),\n",
      " Document(id_='488fa29a-3424-4e61-bb5f-b5b8741a21f4', embedding=None, metadata={}, excluded_embed_metadata_keys=[], excluded_llm_metadata_keys=[], relationships={}, text='{\"name\": \"Noah Harris\", \"interests\": \"I\\'m working on creating sustainable agricultural technologies to reduce water and fertilizer usage.\", \"location\": \"Fresno, CA\"}', mimetype='text/plain', start_char_idx=None, end_char_idx=None, text_template='{metadata_str}\\n\\n{content}', metadata_template='{key}: {value}', metadata_seperator='\\n'),\n",
      " Document(id_='c8d54161-ca83-4abe-bb86-0f7598299102', embedding=None, metadata={}, excluded_embed_metadata_keys=[], excluded_llm_metadata_keys=[], relationships={}, text='{\"name\": \"Amelia Clark\", \"interests\": \"I\\'m developing an AI-driven tool to monitor deforestation and assist with forest management.\", \"location\": \"Tallahassee, FL\"}', mimetype='text/plain', start_char_idx=None, end_char_idx=None, text_template='{metadata_str}\\n\\n{content}', metadata_template='{key}: {value}', metadata_seperator='\\n'),\n",
      " Document(id_='bddffe7b-99ca-428b-8536-34623a8b4b9e', embedding=None, metadata={}, excluded_embed_metadata_keys=[], excluded_llm_metadata_keys=[], relationships={}, text='{\"name\": \"Lucas Robinson\", \"interests\": \"I\\'m focused on energy-efficient transportation solutions like electric vehicle charging infrastructure.\", \"location\": \"Detroit, MI\"}', mimetype='text/plain', start_char_idx=None, end_char_idx=None, text_template='{metadata_str}\\n\\n{content}', metadata_template='{key}: {value}', metadata_seperator='\\n'),\n",
      " Document(id_='6a42ef27-7ec7-492f-90ca-7259824e245f', embedding=None, metadata={}, excluded_embed_metadata_keys=[], excluded_llm_metadata_keys=[], relationships={}, text='{\"name\": \"Ella Lewis\", \"interests\": \"I\\'m leading a team that develops wind turbines for urban environments.\", \"location\": \"Minneapolis, MN\"}', mimetype='text/plain', start_char_idx=None, end_char_idx=None, text_template='{metadata_str}\\n\\n{content}', metadata_template='{key}: {value}', metadata_seperator='\\n'),\n",
      " Document(id_='91911c81-b52b-4b0b-85f3-53828d35da3d', embedding=None, metadata={}, excluded_embed_metadata_keys=[], excluded_llm_metadata_keys=[], relationships={}, text='{\"name\": \"William Hill\", \"interests\": \"I\\'m working on a project that turns industrial waste into reusable materials for construction.\", \"location\": \"Cleveland, OH\"}', mimetype='text/plain', start_char_idx=None, end_char_idx=None, text_template='{metadata_str}\\n\\n{content}', metadata_template='{key}: {value}', metadata_seperator='\\n'),\n",
      " Document(id_='3e4dee4f-077e-4ff7-bbd7-7ddfb1362f90', embedding=None, metadata={}, excluded_embed_metadata_keys=[], excluded_llm_metadata_keys=[], relationships={}, text='{\"name\": \"Avery Scott\", \"interests\": \"I\\'m developing a blockchain-based system for verifying carbon credits and ensuring transparency.\", \"location\": \"Raleigh, NC\"}', mimetype='text/plain', start_char_idx=None, end_char_idx=None, text_template='{metadata_str}\\n\\n{content}', metadata_template='{key}: {value}', metadata_seperator='\\n'),\n",
      " Document(id_='11973c06-a3d8-4845-9969-8924fb86276b', embedding=None, metadata={}, excluded_embed_metadata_keys=[], excluded_llm_metadata_keys=[], relationships={}, text='{\"name\": \"Harper Adams\", \"interests\": \"I\\'m researching new desalination technologies to provide clean water in arid regions.\", \"location\": \"Las Vegas, NV\"}', mimetype='text/plain', start_char_idx=None, end_char_idx=None, text_template='{metadata_str}\\n\\n{content}', metadata_template='{key}: {value}', metadata_seperator='\\n'),\n",
      " Document(id_='823df449-ac52-4c6a-9ce1-61cb4afdd747', embedding=None, metadata={}, excluded_embed_metadata_keys=[], excluded_llm_metadata_keys=[], relationships={}, text='{\"name\": \"James Carter\", \"interests\": \"I\\'m part of a research team developing AI-driven climate forecasting models for disaster preparedness.\", \"location\": \"Tampa, FL\"}', mimetype='text/plain', start_char_idx=None, end_char_idx=None, text_template='{metadata_str}\\n\\n{content}', metadata_template='{key}: {value}', metadata_seperator='\\n'),\n",
      " Document(id_='b93d3c0e-5cf5-4818-a3ed-09edab6c40ed', embedding=None, metadata={}, excluded_embed_metadata_keys=[], excluded_llm_metadata_keys=[], relationships={}, text='{\"name\": \"Evelyn Nelson\", \"interests\": \"I\\'m creating smart irrigation systems that help farmers reduce water usage and improve crop yields.\", \"location\": \"Boise, ID\"}', mimetype='text/plain', start_char_idx=None, end_char_idx=None, text_template='{metadata_str}\\n\\n{content}', metadata_template='{key}: {value}', metadata_seperator='\\n'),\n",
      " Document(id_='14877d51-a525-4862-acdb-fff284e03131', embedding=None, metadata={}, excluded_embed_metadata_keys=[], excluded_llm_metadata_keys=[], relationships={}, text='{\"name\": \"Benjamin King\", \"interests\": \"I\\'m designing vertical farming systems to reduce the carbon footprint of food production.\", \"location\": \"Kansas City, MO\"}', mimetype='text/plain', start_char_idx=None, end_char_idx=None, text_template='{metadata_str}\\n\\n{content}', metadata_template='{key}: {value}', metadata_seperator='\\n'),\n",
      " Document(id_='77bc7d92-afb5-468d-8c40-0fadd648d8be', embedding=None, metadata={}, excluded_embed_metadata_keys=[], excluded_llm_metadata_keys=[], relationships={}, text='{\"name\": \"Lily Hall\", \"interests\": \"I\\'m working on carbon-neutral shipping technologies to reduce emissions in global trade.\", \"location\": \"Baltimore, MD\"}', mimetype='text/plain', start_char_idx=None, end_char_idx=None, text_template='{metadata_str}\\n\\n{content}', metadata_template='{key}: {value}', metadata_seperator='\\n'),\n",
      " Document(id_='5e4ee6a3-43c0-4964-95f6-6e338c45317c', embedding=None, metadata={}, excluded_embed_metadata_keys=[], excluded_llm_metadata_keys=[], relationships={}, text='{\"name\": \"Mason Turner\", \"interests\": \"I\\'m exploring the use of biofuels in aviation to cut down on carbon emissions.\", \"location\": \"Atlanta, GA\"}', mimetype='text/plain', start_char_idx=None, end_char_idx=None, text_template='{metadata_str}\\n\\n{content}', metadata_template='{key}: {value}', metadata_seperator='\\n'),\n",
      " Document(id_='a5fa4126-08c2-430e-8406-7cd46329163b', embedding=None, metadata={}, excluded_embed_metadata_keys=[], excluded_llm_metadata_keys=[], relationships={}, text='{\"name\": \"Abigail Wright\", \"interests\": \"I\\'m developing AI-driven tools to predict climate change impacts on ecosystems and biodiversity.\", \"location\": \"Sacramento, CA\"}', mimetype='text/plain', start_char_idx=None, end_char_idx=None, text_template='{metadata_str}\\n\\n{content}', metadata_template='{key}: {value}', metadata_seperator='\\n'),\n",
      " Document(id_='eb9af1d2-2acf-4f5d-8b03-5c33fd4d3313', embedding=None, metadata={}, excluded_embed_metadata_keys=[], excluded_llm_metadata_keys=[], relationships={}, text='{\"name\": \"Sebastian Baker\", \"interests\": \"I\\'m working on energy-efficient lighting solutions for public spaces to reduce electricity consumption.\", \"location\": \"Orlando, FL\"}', mimetype='text/plain', start_char_idx=None, end_char_idx=None, text_template='{metadata_str}\\n\\n{content}', metadata_template='{key}: {value}', metadata_seperator='\\n'),\n",
      " Document(id_='c294d455-f8ae-4a11-93a9-a9af9d24cc14', embedding=None, metadata={}, excluded_embed_metadata_keys=[], excluded_llm_metadata_keys=[], relationships={}, text='{\"name\": \"Ella Perez\", \"interests\": \"I\\'m developing a blockchain-based system to track food supply chains and ensure sustainability.\", \"location\": \"Dallas, TX\"}', mimetype='text/plain', start_char_idx=None, end_char_idx=None, text_template='{metadata_str}\\n\\n{content}', metadata_template='{key}: {value}', metadata_seperator='\\n'),\n",
      " Document(id_='2492e249-f7b8-4fdb-adbc-738bd0123c99', embedding=None, metadata={}, excluded_embed_metadata_keys=[], excluded_llm_metadata_keys=[], relationships={}, text='{\"name\": \"Jacob Diaz\", \"interests\": \"I\\'m building an AI-driven platform to assess and mitigate wildfire risks in forested areas.\", \"location\": \"Denver, CO\"}', mimetype='text/plain', start_char_idx=None, end_char_idx=None, text_template='{metadata_str}\\n\\n{content}', metadata_template='{key}: {value}', metadata_seperator='\\n'),\n",
      " Document(id_='6d9bfa6c-4298-4499-a9c1-9e798a496bf8', embedding=None, metadata={}, excluded_embed_metadata_keys=[], excluded_llm_metadata_keys=[], relationships={}, text='{\"name\": \"Grace Flores\", \"interests\": \"I\\'m developing urban planning tools that integrate climate resilience into city infrastructure.\", \"location\": \"Seattle, WA\"}', mimetype='text/plain', start_char_idx=None, end_char_idx=None, text_template='{metadata_str}\\n\\n{content}', metadata_template='{key}: {value}', metadata_seperator='\\n'),\n",
      " Document(id_='df33fb06-c7d8-4e82-b681-e15bde964a9f', embedding=None, metadata={}, excluded_embed_metadata_keys=[], excluded_llm_metadata_keys=[], relationships={}, text='{\"name\": \"Logan Edwards\", \"interests\": \"I\\'m researching the potential of algae as a renewable energy source and CO2 absorber.\", \"location\": \"San Francisco, CA\"}', mimetype='text/plain', start_char_idx=None, end_char_idx=None, text_template='{metadata_str}\\n\\n{content}', metadata_template='{key}: {value}', metadata_seperator='\\n'),\n",
      " Document(id_='43cadf2a-c95e-4f9d-8cab-88a443140003', embedding=None, metadata={}, excluded_embed_metadata_keys=[], excluded_llm_metadata_keys=[], relationships={}, text='{\"name\": \"Chloe Torres\", \"interests\": \"I\\'m leading a project to develop solar-powered water filtration systems for rural communities.\", \"location\": \"Phoenix, AZ\"}', mimetype='text/plain', start_char_idx=None, end_char_idx=None, text_template='{metadata_str}\\n\\n{content}', metadata_template='{key}: {value}', metadata_seperator='\\n'),\n",
      " Document(id_='d301dd30-57f8-49bd-b8f7-f9e1aba0243a', embedding=None, metadata={}, excluded_embed_metadata_keys=[], excluded_llm_metadata_keys=[], relationships={}, text='{\"name\": \"Henry Howard\", \"interests\": \"I\\'m involved in a project to turn food waste into bioenergy for small-scale power generation.\", \"location\": \"Portland, OR\"}', mimetype='text/plain', start_char_idx=None, end_char_idx=None, text_template='{metadata_str}\\n\\n{content}', metadata_template='{key}: {value}', metadata_seperator='\\n'),\n",
      " Document(id_='e6e8e963-9d70-4fe4-ba0f-e40f9e99cb57', embedding=None, metadata={}, excluded_embed_metadata_keys=[], excluded_llm_metadata_keys=[], relationships={}, text='{\"name\": \"Victoria Ramirez\", \"interests\": \"I\\'m researching green construction technologies that reduce energy consumption in new buildings.\", \"location\": \"Nashville, TN\"}', mimetype='text/plain', start_char_idx=None, end_char_idx=None, text_template='{metadata_str}\\n\\n{content}', metadata_template='{key}: {value}', metadata_seperator='\\n'),\n",
      " Document(id_='b9cae5d6-a959-4cc1-8ac2-10ff7a0b46f5', embedding=None, metadata={}, excluded_embed_metadata_keys=[], excluded_llm_metadata_keys=[], relationships={}, text='{\"name\": \"Daniel Simmons\", \"interests\": \"I\\'m creating drone-based systems to monitor reforestation efforts and track tree health.\", \"location\": \"Salt Lake City, UT\"}', mimetype='text/plain', start_char_idx=None, end_char_idx=None, text_template='{metadata_str}\\n\\n{content}', metadata_template='{key}: {value}', metadata_seperator='\\n'),\n",
      " Document(id_='03c15c79-ff7a-4b15-b4fc-6cfbabaa1aee', embedding=None, metadata={}, excluded_embed_metadata_keys=[], excluded_llm_metadata_keys=[], relationships={}, text='{\"name\": \"Samantha Barnes\", \"interests\": \"I\\'m working on electric aviation technologies to reduce the environmental impact of air travel.\", \"location\": \"Charlotte, NC\"}', mimetype='text/plain', start_char_idx=None, end_char_idx=None, text_template='{metadata_str}\\n\\n{content}', metadata_template='{key}: {value}', metadata_seperator='\\n'),\n",
      " Document(id_='d1f3272d-5e3c-447c-bc28-57b0afa5bfcd', embedding=None, metadata={}, excluded_embed_metadata_keys=[], excluded_llm_metadata_keys=[], relationships={}, text='{\"name\": \"Landon Bennett\", \"interests\": \"I\\'m developing AI algorithms to optimize energy usage in smart cities.\", \"location\": \"Indianapolis, IN\"}', mimetype='text/plain', start_char_idx=None, end_char_idx=None, text_template='{metadata_str}\\n\\n{content}', metadata_template='{key}: {value}', metadata_seperator='\\n'),\n",
      " Document(id_='e67d3128-9d24-4a4e-8e4e-7398c817725f', embedding=None, metadata={}, excluded_embed_metadata_keys=[], excluded_llm_metadata_keys=[], relationships={}, text='{\"name\": \"Zoe Rivera\", \"interests\": \"I\\'m researching the use of autonomous vehicles in public transit to reduce emissions.\", \"location\": \"Las Vegas, NV\"}', mimetype='text/plain', start_char_idx=None, end_char_idx=None, text_template='{metadata_str}\\n\\n{content}', metadata_template='{key}: {value}', metadata_seperator='\\n'),\n",
      " Document(id_='7399b279-575b-467f-8c3c-e0db4c23a468', embedding=None, metadata={}, excluded_embed_metadata_keys=[], excluded_llm_metadata_keys=[], relationships={}, text='{\"name\": \"Nathan Parker\", \"interests\": \"I\\'m part of a team working on AI-powered systems to manage energy distribution in rural areas.\", \"location\": \"Oklahoma City, OK\"}', mimetype='text/plain', start_char_idx=None, end_char_idx=None, text_template='{metadata_str}\\n\\n{content}', metadata_template='{key}: {value}', metadata_seperator='\\n'),\n",
      " Document(id_='81f70e35-8108-4dd1-9cb4-231e59fe0c84', embedding=None, metadata={}, excluded_embed_metadata_keys=[], excluded_llm_metadata_keys=[], relationships={}, text='{\"name\": \"Hannah Murphy\", \"interests\": \"I\\'m developing sustainable clothing materials using biodegradable and recycled fibers.\", \"location\": \"Columbus, OH\"}', mimetype='text/plain', start_char_idx=None, end_char_idx=None, text_template='{metadata_str}\\n\\n{content}', metadata_template='{key}: {value}', metadata_seperator='\\n'),\n",
      " Document(id_='648e7538-b8da-47c4-b4c1-1cff2f5f0792', embedding=None, metadata={}, excluded_embed_metadata_keys=[], excluded_llm_metadata_keys=[], relationships={}, text='{\"name\": \"Matthew Bailey\", \"interests\": \"I\\'m working on a project that captures and repurposes methane emissions from landfills.\", \"location\": \"Buffalo, NY\"}', mimetype='text/plain', start_char_idx=None, end_char_idx=None, text_template='{metadata_str}\\n\\n{content}', metadata_template='{key}: {value}', metadata_seperator='\\n'),\n",
      " Document(id_='71e8f545-ce1f-44e2-9043-818f5a41df4f', embedding=None, metadata={}, excluded_embed_metadata_keys=[], excluded_llm_metadata_keys=[], relationships={}, text='{\"name\": \"Layla Cooper\", \"interests\": \"I\\'m researching the potential of tidal energy to provide reliable renewable energy.\", \"location\": \"San Diego, CA\"}', mimetype='text/plain', start_char_idx=None, end_char_idx=None, text_template='{metadata_str}\\n\\n{content}', metadata_template='{key}: {value}', metadata_seperator='\\n'),\n",
      " Document(id_='f4cfb4cb-1acd-4c71-a140-76e9f85dfb58', embedding=None, metadata={}, excluded_embed_metadata_keys=[], excluded_llm_metadata_keys=[], relationships={}, text='{\"name\": \"Isaac Powell\", \"interests\": \"I\\'m developing energy-efficient home automation systems to reduce household carbon footprints.\", \"location\": \"St. Louis, MO\"}', mimetype='text/plain', start_char_idx=None, end_char_idx=None, text_template='{metadata_str}\\n\\n{content}', metadata_template='{key}: {value}', metadata_seperator='\\n'),\n",
      " Document(id_='6c5b2ae8-d4e8-45de-8d35-5c5e6f5df2cc', embedding=None, metadata={}, excluded_embed_metadata_keys=[], excluded_llm_metadata_keys=[], relationships={}, text='{\"name\": \"Aubrey Hughes\", \"interests\": \"I\\'m leading a project to create more sustainable urban green spaces to improve air quality.\", \"location\": \"Richmond, VA\"}', mimetype='text/plain', start_char_idx=None, end_char_idx=None, text_template='{metadata_str}\\n\\n{content}', metadata_template='{key}: {value}', metadata_seperator='\\n'),\n",
      " Document(id_='372cfd8f-e721-4a1f-8b41-f5418b1ca7d4', embedding=None, metadata={}, excluded_embed_metadata_keys=[], excluded_llm_metadata_keys=[], relationships={}, text='{\"name\": \"Gabriel Ross\", \"interests\": \"I\\'m developing AI models to forecast the environmental impact of construction projects.\", \"location\": \"Newark, NJ\"}', mimetype='text/plain', start_char_idx=None, end_char_idx=None, text_template='{metadata_str}\\n\\n{content}', metadata_template='{key}: {value}', metadata_seperator='\\n')]\n"
     ]
    }
   ],
   "source": [
    "pprint(documents)"
   ]
  },
  {
   "cell_type": "code",
   "execution_count": 11,
   "metadata": {},
   "outputs": [],
   "source": [
    "from llama_index.core.node_parser import JSONNodeParser"
   ]
  },
  {
   "cell_type": "code",
   "execution_count": 12,
   "metadata": {},
   "outputs": [],
   "source": [
    "json_parser = JSONNodeParser(include_metadata=True,include_prev_next_rel=True)\n",
    "\n",
    "nodes = json_parser.get_nodes_from_documents(documents)"
   ]
  },
  {
   "cell_type": "code",
   "execution_count": null,
   "metadata": {},
   "outputs": [],
   "source": []
  },
  {
   "cell_type": "code",
   "execution_count": null,
   "metadata": {},
   "outputs": [],
   "source": []
  },
  {
   "cell_type": "markdown",
   "metadata": {},
   "source": [
    "## Load Data "
   ]
  },
  {
   "cell_type": "code",
   "execution_count": 14,
   "metadata": {},
   "outputs": [],
   "source": [
    "# from llama_index.core import SimpleDirectoryReader\n",
    "\n",
    "# documents = SimpleDirectoryReader('data/paul_graham').load_data()"
   ]
  },
  {
   "cell_type": "markdown",
   "metadata": {},
   "source": [
    "## Index Construction "
   ]
  },
  {
   "cell_type": "code",
   "execution_count": 15,
   "metadata": {},
   "outputs": [
    {
     "name": "stderr",
     "output_type": "stream",
     "text": [
      "Received notification from DBMS server: {severity: WARNING} {code: Neo.ClientNotification.Statement.FeatureDeprecationWarning} {category: DEPRECATION} {title: This feature is deprecated and will be removed in future versions.} {description: The procedure has a deprecated field. ('config' used by 'apoc.meta.graphSample' is deprecated.)} {position: line: 1, column: 1, offset: 0} for query: \"CALL apoc.meta.graphSample() YIELD nodes, relationships RETURN nodes, [rel in relationships | {name:apoc.any.property(rel, 'type'), count: apoc.any.property(rel, 'count')}] AS relationships\"\n"
     ]
    }
   ],
   "source": [
    "from llama_index.graph_stores.neo4j import Neo4jPropertyGraphStore\n",
    "\n",
    "# Note: used to be `Neo4jPGStore`\n",
    "graph_store = Neo4jPropertyGraphStore(\n",
    "    username=os.environ['NEO4J_USERNAME'],\n",
    "    password=os.environ['NEO4J_PASSWORD'],\n",
    "    url=\"bolt://localhost:7687\",\n",
    ")"
   ]
  },
  {
   "cell_type": "code",
   "execution_count": 25,
   "metadata": {},
   "outputs": [
    {
     "data": {
      "application/vnd.jupyter.widget-view+json": {
       "model_id": "83bd9a0cc9f74bfeae4f51ccad440cd8",
       "version_major": 2,
       "version_minor": 0
      },
      "text/plain": [
       "Parsing nodes:   0%|          | 0/46 [00:00<?, ?it/s]"
      ]
     },
     "metadata": {},
     "output_type": "display_data"
    },
    {
     "name": "stderr",
     "output_type": "stream",
     "text": [
      "Extracting paths from text: 100%|███████████████| 46/46 [00:27<00:00,  1.70it/s]\n",
      "Generating embeddings: 100%|██████████████████████| 1/1 [00:00<00:00,  1.23it/s]\n",
      "Generating embeddings: 100%|██████████████████████| 5/5 [00:01<00:00,  2.95it/s]\n",
      "Received notification from DBMS server: {severity: WARNING} {code: Neo.ClientNotification.Statement.FeatureDeprecationWarning} {category: DEPRECATION} {title: This feature is deprecated and will be removed in future versions.} {description: CALL subquery without a variable scope clause is now deprecated. Use CALL (e, row) { ... }} {position: line: 10, column: 21, offset: 397} for query: \"\\n                    UNWIND $data AS row\\n                    MERGE (e:__Node__ {id: row.id})\\n                    SET e += apoc.map.clean(row.properties, [], [])\\n                    SET e.name = row.name, e:`__Entity__`\\n                    WITH e, row\\n                    CALL apoc.create.addLabels(e, [row.label])\\n                    YIELD node\\n                    WITH e, row\\n                    CALL {\\n                        WITH e, row\\n                        WITH e, row\\n                        WHERE row.embedding IS NOT NULL\\n                        CALL db.create.setNodeVectorProperty(e, 'embedding', row.embedding)\\n                        RETURN count(*) AS count\\n                    }\\n                    WITH e, row WHERE row.properties.triplet_source_id IS NOT NULL\\n                    MERGE (c:__Node__ {id: row.properties.triplet_source_id})\\n                    MERGE (e)<-[:MENTIONS]-(c)\\n                    \"\n",
      "Received notification from DBMS server: {severity: WARNING} {code: Neo.ClientNotification.Statement.FeatureDeprecationWarning} {category: DEPRECATION} {title: This feature is deprecated and will be removed in future versions.} {description: The procedure has a deprecated field. ('config' used by 'apoc.meta.graphSample' is deprecated.)} {position: line: 1, column: 1, offset: 0} for query: \"CALL apoc.meta.graphSample() YIELD nodes, relationships RETURN nodes, [rel in relationships | {name:apoc.any.property(rel, 'type'), count: apoc.any.property(rel, 'count')}] AS relationships\"\n"
     ]
    }
   ],
   "source": [
    "from llama_index.core import PropertyGraphIndex\n",
    "from llama_index.embeddings.openai import OpenAIEmbedding\n",
    "from llama_index.llms.openai import OpenAI\n",
    "from llama_index.core.indices.property_graph import SimpleLLMPathExtractor\n",
    "\n",
    "index = PropertyGraphIndex.from_documents(\n",
    "    documents,\n",
    "    embed_model=embed_model,\n",
    "    show_progress=True,\n",
    "    kg_extractors=[\n",
    "        SimpleLLMPathExtractor(\n",
    "            llm=llm\n",
    "        )\n",
    "    ],\n",
    "    property_graph_store=graph_store,\n",
    ")\n",
    "    "
   ]
  },
  {
   "cell_type": "code",
   "execution_count": 26,
   "metadata": {},
   "outputs": [],
   "source": [
    "# index.property_graph_store.save_networkx_graph(name=\"./kg.html\")"
   ]
  },
  {
   "cell_type": "code",
   "execution_count": 27,
   "metadata": {},
   "outputs": [],
   "source": [
    "from llama_index.core import Settings\n",
    "Settings.llm = llm\n",
    "Settings.embed_model = embed_model"
   ]
  },
  {
   "cell_type": "markdown",
   "metadata": {},
   "source": [
    "## Retrivers "
   ]
  },
  {
   "cell_type": "code",
   "execution_count": 28,
   "metadata": {},
   "outputs": [],
   "source": [
    "from llama_index.core.indices.property_graph import (\n",
    "    LLMSynonymRetriever, \n",
    "    VectorContextRetriever\n",
    ")\n",
    "\n",
    "llm_synonym_retriever = LLMSynonymRetriever(\n",
    "    index.property_graph_store,\n",
    "    llm=llm,\n",
    "    include_text=False,  \n",
    ")\n",
    "\n",
    "vector_context_retriever = VectorContextRetriever(\n",
    "    index.property_graph_store,\n",
    "    embed_model=embed_model,\n",
    "    include_text=False,\n",
    ")"
   ]
  },
  {
   "cell_type": "markdown",
   "metadata": {},
   "source": [
    "## Querying"
   ]
  },
  {
   "cell_type": "code",
   "execution_count": 29,
   "metadata": {},
   "outputs": [
    {
     "name": "stdout",
     "output_type": "stream",
     "text": [
      "Node ID: 83a67bff-a1e8-4408-9f5c-f8dd0703a64f\n",
      "Text: Liam johnson -> Has interests in -> Carbon capture technology\n",
      "Score:  0.783\n",
      "\n",
      "Node ID: 78ca962f-d579-41c8-8556-7bf1d971b694\n",
      "Text: Liam johnson -> Is developing -> Carbon capture technology\n",
      "Score:  0.783\n",
      "\n",
      "Node ID: c7bd392c-47e3-4e95-9e8c-2e47bc251de9\n",
      "Text: Carbon capture technology -> Aimed at -> Reducing industrial\n",
      "emissions\n",
      "Score:  0.783\n",
      "\n",
      "Node ID: cef54198-eda0-4d8b-8ff0-9b926cbf6a7e\n",
      "Text: Logan edwards -> Is -> Co2 absorber\n",
      "Score:  0.687\n",
      "\n",
      "Node ID: 7dfd5153-9fee-498f-9ba2-5b9385ba0cda\n",
      "Text: Mason turner -> Aims to cut down on -> Carbon emissions\n",
      "Score:  0.682\n",
      "\n",
      "Node ID: 51d3ee57-2fe7-4b87-8a6e-df2579423e4c\n",
      "Text: Avery scott -> Is interested in -> Verifying carbon credits\n",
      "Score:  0.676\n",
      "\n"
     ]
    }
   ],
   "source": [
    "from pprint import pprint\n",
    "\n",
    "retriever = index.as_retriever(\n",
    "    sub_retrievers=[\n",
    "        llm_synonym_retriever,\n",
    "        vector_context_retriever\n",
    "    ]\n",
    ")\n",
    "\n",
    "nodes = retriever.retrieve(\"Who's working on carbon capture?\")\n",
    "\n",
    "for node in nodes:\n",
    "    print(node)"
   ]
  },
  {
   "cell_type": "markdown",
   "metadata": {},
   "source": [
    "## Query Engine"
   ]
  },
  {
   "cell_type": "code",
   "execution_count": 30,
   "metadata": {},
   "outputs": [
    {
     "data": {
      "text/markdown": [
       "Sophia Patel is working on an AI climate risk assessment tool to help investors vet and validate sustainability reports."
      ],
      "text/plain": [
       "<IPython.core.display.Markdown object>"
      ]
     },
     "metadata": {},
     "output_type": "display_data"
    }
   ],
   "source": [
    "query_engine = index.as_query_engine(include_text=True)\n",
    "\n",
    "response = query_engine.query(\"Who's working on climate risk assessment?\")\n",
    "\n",
    "display(Markdown(f\"{response.response}\"))"
   ]
  },
  {
   "cell_type": "code",
   "execution_count": null,
   "metadata": {},
   "outputs": [],
   "source": []
  }
 ],
 "metadata": {
  "kernelspec": {
   "display_name": "Python 3 (ipykernel)",
   "language": "python",
   "name": "python3"
  },
  "language_info": {
   "codemirror_mode": {
    "name": "ipython",
    "version": 3
   },
   "file_extension": ".py",
   "mimetype": "text/x-python",
   "name": "python",
   "nbconvert_exporter": "python",
   "pygments_lexer": "ipython3",
   "version": "3.11.7"
  }
 },
 "nbformat": 4,
 "nbformat_minor": 2
}
