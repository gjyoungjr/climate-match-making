{
 "cells": [
  {
   "cell_type": "markdown",
   "metadata": {},
   "source": [
    "# Luma Webscraper "
   ]
  },
  {
   "cell_type": "markdown",
   "metadata": {},
   "source": [
    "Scrapes Luma website to ingest tech events. "
   ]
  },
  {
   "cell_type": "code",
   "execution_count": 9,
   "metadata": {},
   "outputs": [
    {
     "name": "stdout",
     "output_type": "stream",
     "text": [
      "Requirement already satisfied: requests in /opt/homebrew/lib/python3.10/site-packages (2.32.3)\n",
      "Requirement already satisfied: beautifulsoup4 in /opt/homebrew/lib/python3.10/site-packages (4.12.3)\n",
      "Requirement already satisfied: pandas in /opt/homebrew/lib/python3.10/site-packages (1.5.0)\n",
      "Requirement already satisfied: lxml in /opt/homebrew/lib/python3.10/site-packages (5.3.0)\n",
      "Requirement already satisfied: charset-normalizer<4,>=2 in /opt/homebrew/lib/python3.10/site-packages (from requests) (3.3.2)\n",
      "Requirement already satisfied: idna<4,>=2.5 in /opt/homebrew/lib/python3.10/site-packages (from requests) (3.10)\n",
      "Requirement already satisfied: urllib3<3,>=1.21.1 in /opt/homebrew/lib/python3.10/site-packages (from requests) (2.2.3)\n",
      "Requirement already satisfied: certifi>=2017.4.17 in /opt/homebrew/lib/python3.10/site-packages (from requests) (2024.8.30)\n",
      "Requirement already satisfied: soupsieve>1.2 in /opt/homebrew/lib/python3.10/site-packages (from beautifulsoup4) (2.6)\n",
      "Requirement already satisfied: python-dateutil>=2.8.1 in /opt/homebrew/lib/python3.10/site-packages (from pandas) (2.8.2)\n",
      "Requirement already satisfied: pytz>=2020.1 in /opt/homebrew/lib/python3.10/site-packages (from pandas) (2022.2.1)\n",
      "Requirement already satisfied: numpy>=1.21.0 in /opt/homebrew/lib/python3.10/site-packages (from pandas) (1.23.3)\n",
      "Requirement already satisfied: six>=1.5 in /opt/homebrew/lib/python3.10/site-packages (from python-dateutil>=2.8.1->pandas) (1.16.0)\n",
      "\n",
      "\u001b[1m[\u001b[0m\u001b[34;49mnotice\u001b[0m\u001b[1;39;49m]\u001b[0m\u001b[39;49m A new release of pip is available: \u001b[0m\u001b[31;49m24.1.2\u001b[0m\u001b[39;49m -> \u001b[0m\u001b[32;49m24.2\u001b[0m\n",
      "\u001b[1m[\u001b[0m\u001b[34;49mnotice\u001b[0m\u001b[1;39;49m]\u001b[0m\u001b[39;49m To update, run: \u001b[0m\u001b[32;49mpython3.10 -m pip install --upgrade pip\u001b[0m\n",
      "Note: you may need to restart the kernel to use updated packages.\n"
     ]
    }
   ],
   "source": [
    "%pip install requests beautifulsoup4 pandas lxml"
   ]
  },
  {
   "cell_type": "code",
   "execution_count": 10,
   "metadata": {},
   "outputs": [],
   "source": [
    "import requests\n",
    "from bs4 import BeautifulSoup\n",
    "import pandas as pd \n",
    "\n",
    "luma_url = \"https://lu.ma/sf\""
   ]
  },
  {
   "cell_type": "code",
   "execution_count": 19,
   "metadata": {},
   "outputs": [
    {
     "name": "stdout",
     "output_type": "stream",
     "text": [
      "Successfully fetched page...\n",
      "[{'link': '/bgpdldt3',\n",
      "  'title': '#SFTechWeek—The AI Flash Conference + Investors & Founders Rooftop '\n",
      "           'Happy Hour ✨'},\n",
      " {'link': '/ai-after-hours-meetup', 'title': 'AI After Hours'},\n",
      " {'link': '/dfpbml9h', 'title': 'AI For Good Pitch Night #TechWeek'},\n",
      " {'link': '/jww3ryhh',\n",
      "  'title': 'Happy Hour Round-Tables: Circular Economy & Waste Reduction'},\n",
      " {'link': '/90szvhdt',\n",
      "  'title': 'San Francisco AI Founder and VC Networking SF #TechWeek'},\n",
      " {'link': '/itp2xgaw', 'title': 'SF #TechWeek: Data & AI Edition'},\n",
      " {'link': '/foundersandfunders_oct8', 'title': 'Founders & Funders | Oct8'},\n",
      " {'link': '/fintechsftechweek',\n",
      "  'title': 'State of Fintech : VC Panel. Founder and Funder event. SF Tech '\n",
      "           'Week.'},\n",
      " {'link': '/l41g25e1',\n",
      "  'title': 'Future of AI + Customer Success Roundtables & Meetup #SFTechWeek'},\n",
      " {'link': '/dpfd669a',\n",
      "  'title': 'Lasers, AI and Defence against the Dark Arts #SFTechWeek'},\n",
      " {'link': '/52cwrai4', 'title': '#SFTechWeek AI Builders Social Happy Hour'},\n",
      " {'link': '/8icz3640', 'title': 'Symposium: Human Flourishing #SFTechWeek'},\n",
      " {'link': '/78uqqg5f', 'title': 'Out at Tech Week Breakfast #SFTechWeek'},\n",
      " {'link': '/wbm7srl5',\n",
      "  'title': 'How to Go To Market in AI Applications: Early Bird Breakfast Panel '\n",
      "           '#SFTechWeek'},\n",
      " {'link': '/aiforgoodSFTW', 'title': 'AI for Good: #SFTechWeek Edition'},\n",
      " {'link': '/g25ij8r6',\n",
      "  'title': 'How to Build a Strong Culture When You Have a Global Team '\n",
      "           '#SFTechWeek'},\n",
      " {'link': '/l8hjm709', 'title': 'Immigrant Founders Conference SF #TechWeek'},\n",
      " {'link': '/52xwpldm',\n",
      "  'title': \"SF #TechWeek - The Future Of Women's Health: Opportunities & \"\n",
      "           'Challenges'},\n",
      " {'link': '/9uuoynnu',\n",
      "  'title': 'Ultimate AI Pitch and Jam with Convex - #SFTechWeek'},\n",
      " {'link': '/z50ufssf',\n",
      "  'title': 'TechWalk Silicon Valley w/ Jenny Kay Pollock, Reut Lazo, & Lana '\n",
      "           'Dubinskiy'},\n",
      " {'link': '', 'title': ''},\n",
      " {'link': '', 'title': ''},\n",
      " {'link': '', 'title': ''},\n",
      " {'link': '', 'title': ''},\n",
      " {'link': '', 'title': ''},\n",
      " {'link': '', 'title': ''}]\n"
     ]
    }
   ],
   "source": [
    "from pprint import pprint \n",
    "\n",
    "response = requests.get(luma_url)\n",
    "\n",
    "if response.status_code == 200:\n",
    "    print('Successfully fetched page...')\n",
    "else: \n",
    "    print('Failed to fetch page...')\n",
    "    \n",
    "\n",
    "soup = BeautifulSoup(response.content, \"html.parser\")\n",
    "\n",
    "events = soup.find_all('div', class_='card-wrapper')\n",
    "\n",
    "\n",
    "event_data = []\n",
    "for event in events: \n",
    "    title = event.find('h3').text.strip() \n",
    "    link_tag = event.find('a')\n",
    "    link = ''\n",
    "    \n",
    "    if link_tag and 'href' in link_tag.attrs:\n",
    "        link = link_tag['href']\n",
    "    \n",
    "    event_details = {\n",
    "        'title': title,\n",
    "        'link': f\"https://lu.ma/{link}\"\n",
    "    }\n",
    "    \n",
    "    event_data.append(event_details)\n",
    "    \n",
    "    \n",
    "pprint(event_data)"
   ]
  },
  {
   "cell_type": "code",
   "execution_count": null,
   "metadata": {},
   "outputs": [],
   "source": []
  }
 ],
 "metadata": {
  "kernelspec": {
   "display_name": "Python 3",
   "language": "python",
   "name": "python3"
  },
  "language_info": {
   "codemirror_mode": {
    "name": "ipython",
    "version": 3
   },
   "file_extension": ".py",
   "mimetype": "text/x-python",
   "name": "python",
   "nbconvert_exporter": "python",
   "pygments_lexer": "ipython3",
   "version": "3.10.14"
  }
 },
 "nbformat": 4,
 "nbformat_minor": 2
}
